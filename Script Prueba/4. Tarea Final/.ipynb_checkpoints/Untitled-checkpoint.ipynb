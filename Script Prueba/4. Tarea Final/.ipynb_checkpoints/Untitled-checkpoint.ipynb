{
 "cells": [
  {
   "cell_type": "code",
   "execution_count": 13,
   "id": "13ee1ace-cc8d-4b9b-bdab-ab8fcda53cbb",
   "metadata": {},
   "outputs": [
    {
     "name": "stdout",
     "output_type": "stream",
     "text": [
      "Iteración 1, la mejor solución es: [-322.   -248.26 -397.83] con un valor = 88.64\n",
      "Iteración 2, la mejor solución es: [ 203.8   105.39 -372.31] con un valor = 37.26\n",
      "Iteración 3, la mejor solución es: [-326.89  393.53  240.7 ] con un valor = -602.24\n",
      "Iteración 4, la mejor solución es: [ 54.62 171.77 376.37] con un valor = -334.02\n",
      "Iteración 5, la mejor solución es: [-430.9   210.97  -96.45] con un valor = 174.04\n",
      "Iteración 6, la mejor solución es: [-250.74 -405.38 -180.45] con un valor = 494.68\n",
      "Iteración 7, la mejor solución es: [-151.59  -40.74 -128.49] con un valor = -155.19\n",
      "Iteración 8, la mejor solución es: [ 487.31   64.66 -421.86] con un valor = 396.18\n",
      "Iteración 9, la mejor solución es: [ 489.47 -105.77  -60.68] con un valor = 45.22\n",
      "Iteración 10, la mejor solución es: [-220.31 -453.79   98.29] con un valor = 502.33\n",
      "Iteración 11, la mejor solución es: [-326.17 -303.3    95.24] con un valor = -500.76\n",
      "Iteración 12, la mejor solución es: [-442.51  396.04 -467.68] con un valor = 184.57\n",
      "Iteración 13, la mejor solución es: [-224.35 -180.85  276.35] con un valor = 508.31\n",
      "Iteración 14, la mejor solución es: [370.82  -9.05  76.13] con un valor = -194.62\n",
      "Iteración 15, la mejor solución es: [-155.88  -53.52 -433.93] con un valor = 431.18\n",
      "Iteración 16, la mejor solución es: [ 126.53 -391.66 -293.52] con un valor = 148.64\n",
      "Iteración 17, la mejor solución es: [-479.     19.11  -23.4 ] con un valor = 45.01\n",
      "Iteración 18, la mejor solución es: [ -70.87   33.12 -354.11] con un valor = 65.31\n",
      "Iteración 19, la mejor solución es: [-298.22 -483.66    7.07] con un valor = -302.01\n",
      "Iteración 20, la mejor solución es: [-39.89 399.85 141.46] con un valor = -274.96\n"
     ]
    }
   ],
   "source": [
    "import numpy as np\n",
    "\n",
    "## Función objetivo, que incluye angulos en radianes.\n",
    "## Que queremos minimizar -x sin raiz(abs(x)) - y sin raiz(abs(y))- z sin raiz(abs(z))\n",
    "## x, y, z tiene un rango de [-500 - 500]\n",
    "\n",
    "#radianes es default en numpy.\n",
    "def f(x, y, z):\n",
    "    return -x * np.sin(np.sqrt(np.abs(x))) - y * np.sin(np.sqrt(np.abs(y))) - z * np.sin(np.sqrt(np.abs(z)))\n",
    "\n",
    "## Generar una solución inicial random.\n",
    "def solucion_inicial():\n",
    "    return np.random.uniform(-500, 500, size=3)\n",
    "\n",
    "def mutacion(solucion):\n",
    "    delta = np.random.uniform(-1, 1, size=3)  # Generamos un pequeño cambio aleatorio para x, y, z\n",
    "    vecino = solucion + delta\n",
    "    # Nos aseguramos de que la nueva solución esté dentro del rango permitido\n",
    "    vecino = np.clip(vecino, -500, 500)\n",
    "    return vecino\n",
    "\n",
    "def simulated_annealing(solucion_inicial, temp_inicial, enfriamiento, num_iteraciones):\n",
    "    solucion_actual = solucion_inicial\n",
    "    mejor_solucion = solucion_inicial\n",
    "    temp_actual = temp_inicial\n",
    "    mejores_costos = []\n",
    "\n",
    "    for iteracion in range(num_iteraciones):\n",
    "        vecino = mutacion(solucion_actual)\n",
    "        coste_actual = f(*solucion_actual)\n",
    "        coste_vecino = f(*vecino)\n",
    "\n",
    "        ## si randomUni [0,1] es menor a e**(-deltaE/T)\n",
    "        if coste_vecino < coste_actual or np.random.uniform(0, 1) < np.exp((coste_actual - coste_vecino) / temp_actual):\n",
    "            solucion_actual = vecino\n",
    "            if coste_vecino < f(*mejor_solucion):\n",
    "                mejor_solucion = vecino\n",
    "\n",
    "        mejores_costos.append(f(*mejor_solucion))\n",
    "        temp_actual *= enfriamiento\n",
    "\n",
    "    return mejor_solucion, mejores_costos\n",
    "\n",
    "# Ejecutamos el algoritmo 20 veces\n",
    "for i in range(20):\n",
    "    solucion_ini = solucion_inicial()  # Generamos una solución inicial aleatoria\n",
    "    temp_inicial = 1000\n",
    "    enfriamiento = 0.99\n",
    "    num_iteraciones = 20\n",
    "    mejor_solucion, mejores_costos = simulated_annealing(solucion_ini, temp_inicial, enfriamiento, num_iteraciones)\n",
    "    mejor_solucion_rounded = np.round(mejor_solucion, 2)\n",
    "    f_value_rounded = round(f(*mejor_solucion), 2)\n",
    "    print(f\"Iteración {i+1}, la mejor solución es: {mejor_solucion_rounded} con un valor = {f_value_rounded}\")"
   ]
  },
  {
   "cell_type": "code",
   "execution_count": 12,
   "id": "1408100f-e93f-46ae-83e7-2ccf708a9580",
   "metadata": {},
   "outputs": [
    {
     "data": {
      "text/plain": [
       "[517.4318214101793,\n",
       " 515.7164426833216,\n",
       " 512.4680559301964,\n",
       " 512.4680559301964,\n",
       " 512.4680559301964,\n",
       " 512.4680559301964,\n",
       " 510.8591806546723,\n",
       " 507.5469330873095,\n",
       " 507.5469330873095,\n",
       " 503.6027067308188,\n",
       " 503.6027067308188,\n",
       " 503.6027067308188,\n",
       " 501.6768049282475,\n",
       " 501.6768049282475,\n",
       " 501.6768049282475,\n",
       " 501.6768049282475,\n",
       " 501.6768049282475,\n",
       " 501.6768049282475,\n",
       " 501.6768049282475,\n",
       " 501.6768049282475]"
      ]
     },
     "execution_count": 12,
     "metadata": {},
     "output_type": "execute_result"
    }
   ],
   "source": [
    "mejores_costos"
   ]
  },
  {
   "cell_type": "code",
   "execution_count": null,
   "id": "108879cd-42ea-4754-8c36-415493c83244",
   "metadata": {},
   "outputs": [],
   "source": []
  }
 ],
 "metadata": {
  "kernelspec": {
   "display_name": "Python 3 (ipykernel)",
   "language": "python",
   "name": "python3"
  },
  "language_info": {
   "codemirror_mode": {
    "name": "ipython",
    "version": 3
   },
   "file_extension": ".py",
   "mimetype": "text/x-python",
   "name": "python",
   "nbconvert_exporter": "python",
   "pygments_lexer": "ipython3",
   "version": "3.9.13"
  }
 },
 "nbformat": 4,
 "nbformat_minor": 5
}
