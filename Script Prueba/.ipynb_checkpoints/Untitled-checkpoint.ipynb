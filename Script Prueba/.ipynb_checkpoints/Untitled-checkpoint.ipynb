{
 "cells": [
  {
   "cell_type": "code",
   "execution_count": 18,
   "id": "7052498c-5d99-4dff-a7af-64f9decdb3ae",
   "metadata": {},
   "outputs": [],
   "source": [
    "import imageio.v2 as imageio\n",
    "import os\n",
    "import matplotlib\n",
    "\n",
    "# Directorio con los archivos png\n",
    "png_dir = '2. Simulaciones/Ejemplo_R2/'\n",
    "\n",
    "# Obtener una lista de los archivos png en la carpeta\n",
    "file_names = sorted((os.path.join(png_dir, fn) for fn in os.listdir(png_dir) if fn.endswith('.png')))\n",
    "\n",
    "# Crear una lista de imágenes a partir de los archivos png\n",
    "images = []\n",
    "for file_name in file_names:\n",
    "    # Leer la imagen del archivo png\n",
    "    image = imageio.imread(file_name)\n",
    "    \n",
    "    # Agregar el título con el nombre del archivo\n",
    "    title = os.path.splitext(os.path.basename(file_name))[0]\n",
    "    image.meta[\"title\"] = title\n",
    "    \n",
    "    # Agregar la imagen a la lista de imágenes\n",
    "    images.append(image)\n",
    "\n",
    "# Generar el gif a partir de la lista de imágenes\n",
    "imageio.mimsave('r2_todas.gif', images, duration=1)"
   ]
  },
  {
   "cell_type": "code",
   "execution_count": null,
   "id": "3c21484d-27a4-4bd0-b78f-c43f4577420b",
   "metadata": {},
   "outputs": [],
   "source": []
  }
 ],
 "metadata": {
  "kernelspec": {
   "display_name": "Python 3 (ipykernel)",
   "language": "python",
   "name": "python3"
  },
  "language_info": {
   "codemirror_mode": {
    "name": "ipython",
    "version": 3
   },
   "file_extension": ".py",
   "mimetype": "text/x-python",
   "name": "python",
   "nbconvert_exporter": "python",
   "pygments_lexer": "ipython3",
   "version": "3.10.4"
  },
  "widgets": {
   "application/vnd.jupyter.widget-state+json": {
    "state": {},
    "version_major": 2,
    "version_minor": 0
   }
  }
 },
 "nbformat": 4,
 "nbformat_minor": 5
}
