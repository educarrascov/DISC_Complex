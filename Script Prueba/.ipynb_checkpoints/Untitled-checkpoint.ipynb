{
 "cells": [
  {
   "cell_type": "code",
   "execution_count": 1,
   "id": "22f3e16a-259d-4813-9879-1bf6941a4cdb",
   "metadata": {},
   "outputs": [],
   "source": [
    "import numpy as np\n",
    "\n",
    "def vecinos(i, j, grid):\n",
    "    vecindario = []\n",
    "    filas, columnas = grid.shape\n",
    "    for x in [-1, 0, 1]:\n",
    "        for y in [-1, 0, 1]:\n",
    "            if x != 0 or y != 0:\n",
    "                vecindario.append(grid[(i + x) % filas][(j + y) % columnas])\n",
    "    return vecindario"
   ]
  },
  {
   "cell_type": "code",
   "execution_count": 2,
   "id": "8d6fd8db-f11c-40db-91d0-b3b1f8bcf7c4",
   "metadata": {},
   "outputs": [],
   "source": [
    "def actualizar_celda(i, j, grid):\n",
    "    vecindario = vecinos(i, j, grid)\n",
    "    suma_vecinos = sum(vecindario)\n",
    "    \n",
    "    if suma_vecinos > 4:\n",
    "        return 1\n",
    "    elif suma_vecinos < 4:\n",
    "        return 0\n",
    "    else:\n",
    "        return grid[i][j]"
   ]
  },
  {
   "cell_type": "code",
   "execution_count": 3,
   "id": "f577cd3f-e138-440d-bef8-711afdb27abc",
   "metadata": {},
   "outputs": [],
   "source": [
    "def actualizar_grid(grid):\n",
    "    filas, columnas = grid.shape\n",
    "    nuevo_grid = np.zeros_like(grid)\n",
    "    for i in range(filas):\n",
    "        for j in range(columnas):\n",
    "            nuevo_grid[i][j] = actualizar_celda(i, j, grid)\n",
    "    return nuevo_grid"
   ]
  },
  {
   "cell_type": "code",
   "execution_count": 4,
   "id": "af5095bd-7943-44b7-a636-c2ebde5bfa66",
   "metadata": {},
   "outputs": [],
   "source": [
    "def regla_mayoria(grid, num_iteraciones):\n",
    "    for _ in range(num_iteraciones):\n",
    "        grid = actualizar_grid(grid)\n",
    "    return grid"
   ]
  },
  {
   "cell_type": "code",
   "execution_count": 5,
   "id": "8d18e3f9-c63e-4ed5-9798-0a1ea2d83d52",
   "metadata": {},
   "outputs": [
    {
     "name": "stdout",
     "output_type": "stream",
     "text": [
      "[[0 0 0 1 1 1 1 1 0 0]\n",
      " [0 0 0 1 1 1 1 1 0 0]\n",
      " [0 0 0 1 1 1 1 0 0 0]\n",
      " [0 0 0 1 1 1 0 0 0 0]\n",
      " [0 0 0 1 1 1 0 0 0 0]\n",
      " [0 0 0 0 1 1 1 0 0 0]\n",
      " [0 0 0 0 1 1 1 1 1 0]\n",
      " [0 0 0 0 1 1 1 1 1 1]\n",
      " [0 0 0 1 1 1 1 1 1 1]\n",
      " [0 0 0 1 1 1 1 1 1 0]]\n"
     ]
    }
   ],
   "source": [
    "grid_inicial = np.random.randint(0, 2, size=(10, 10))\n",
    "resultado = regla_mayoria(grid_inicial, 10)\n",
    "print(resultado)"
   ]
  },
  {
   "cell_type": "code",
   "execution_count": null,
   "id": "5b479050-cd3d-40b7-a540-2e695eece82e",
   "metadata": {},
   "outputs": [],
   "source": []
  },
  {
   "cell_type": "code",
   "execution_count": 6,
   "id": "cf722235-5d54-430b-91c3-db1f7d35d66c",
   "metadata": {},
   "outputs": [
    {
     "name": "stdout",
     "output_type": "stream",
     "text": [
      "[[0.46019178 0.46549132 0.46888401 0.46937842 0.46646954 0.461641\n",
      "  0.45643058 0.45309207 0.45256938 0.45538178]\n",
      " [0.45467217 0.46074373 0.46521349 0.46667627 0.46425992 0.45926335\n",
      "  0.45329306 0.44888506 0.44738881 0.44969874]\n",
      " [0.45445606 0.46074279 0.46648718 0.4697108  0.46895426 0.46479527\n",
      "  0.45860994 0.4529297  0.44967442 0.45032498]\n",
      " [0.45951589 0.46542017 0.47220359 0.47735568 0.47881237 0.47616654\n",
      "  0.47035387 0.46363405 0.45845796 0.45690296]\n",
      " [0.46803809 0.47307337 0.48021774 0.48669326 0.49005657 0.48903427\n",
      "  0.4840725  0.47698582 0.47049746 0.46705047]\n",
      " [0.47670503 0.48073299 0.48746212 0.49419485 0.49846479 0.49856703\n",
      "  0.49459502 0.48791642 0.48118083 0.47684042]\n",
      " [0.48231151 0.48553862 0.4911796  0.49695302 0.50075714 0.50106076\n",
      "  0.49787732 0.49227951 0.48650927 0.48264365]\n",
      " [0.482557   0.4855445  0.48989758 0.49390597 0.49606408 0.49554933\n",
      "  0.49260538 0.48829234 0.48428543 0.48206527]\n",
      " [0.47745202 0.48083089 0.48414184 0.48620475 0.48612843 0.48407979\n",
      "  0.48075435 0.47748428 0.47541505 0.47542198]\n",
      " [0.46885123 0.47313113 0.4760983  0.47683898 0.47483571 0.47113458\n",
      "  0.46692643 0.46400659 0.46324784 0.46516753]]\n"
     ]
    }
   ],
   "source": [
    "import numpy as np\n",
    "\n",
    "def vecinos(i, j, grid):\n",
    "    vecindario = []\n",
    "    filas, columnas = grid.shape\n",
    "    for x in [-1, 0, 1]:\n",
    "        for y in [-1, 0, 1]:\n",
    "            if x != 0 or y != 0:\n",
    "                vecindario.append(grid[(i + x) % filas][(j + y) % columnas])\n",
    "    return vecindario\n",
    "\n",
    "def actualizar_celda(i, j, grid):\n",
    "    vecindario = vecinos(i, j, grid)\n",
    "    promedio_vecinos = sum(vecindario) / len(vecindario)\n",
    "    return promedio_vecinos\n",
    "\n",
    "def actualizar_grid(grid):\n",
    "    filas, columnas = grid.shape\n",
    "    nuevo_grid = np.zeros_like(grid)\n",
    "    for i in range(filas):\n",
    "        for j in range(columnas):\n",
    "            nuevo_grid[i][j] = actualizar_celda(i, j, grid)\n",
    "    return nuevo_grid\n",
    "\n",
    "def dinamica_consenso(grid, num_iteraciones):\n",
    "    for _ in range(num_iteraciones):\n",
    "        grid = actualizar_grid(grid)\n",
    "    return grid\n",
    "\n",
    "grid_inicial = np.random.rand(10, 10)\n",
    "resultado = dinamica_consenso(grid_inicial, 10)\n",
    "print(resultado)"
   ]
  },
  {
   "cell_type": "code",
   "execution_count": null,
   "id": "1bbf7ebc-6ea4-4ef6-b633-f34cddd20a82",
   "metadata": {},
   "outputs": [],
   "source": []
  }
 ],
 "metadata": {
  "kernelspec": {
   "display_name": "Python 3 (ipykernel)",
   "language": "python",
   "name": "python3"
  },
  "language_info": {
   "codemirror_mode": {
    "name": "ipython",
    "version": 3
   },
   "file_extension": ".py",
   "mimetype": "text/x-python",
   "name": "python",
   "nbconvert_exporter": "python",
   "pygments_lexer": "ipython3",
   "version": "3.10.4"
  },
  "widgets": {
   "application/vnd.jupyter.widget-state+json": {
    "state": {},
    "version_major": 2,
    "version_minor": 0
   }
  }
 },
 "nbformat": 4,
 "nbformat_minor": 5
}
