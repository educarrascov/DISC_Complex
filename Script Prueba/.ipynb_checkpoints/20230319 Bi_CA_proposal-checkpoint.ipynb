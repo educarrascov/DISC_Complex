{
 "cells": [
  {
   "cell_type": "markdown",
   "id": "a4f22eaf-09a5-4966-b3bd-4ec76f594803",
   "metadata": {},
   "source": [
    "# Automatas Celulares:\n",
    "\n",
    "**Eduardo Carrasco Vidal**"
   ]
  },
  {
   "cell_type": "markdown",
   "id": "6c11e9ce-f31e-496b-a930-815dadcf0b3f",
   "metadata": {
    "tags": []
   },
   "source": [
    "## Creación de un Elementary Celular Automata (Bidimensional):"
   ]
  },
  {
   "cell_type": "code",
   "execution_count": 1,
   "id": "1878c2ad-3bea-4116-b36b-4996190b49da",
   "metadata": {},
   "outputs": [],
   "source": [
    "import numpy as np\n",
    "import matplotlib.pyplot as plt\n",
    "import random\n",
    "\n",
    "def init(size):\n",
    "    return np.random.randint(0, 2, (size, size))"
   ]
  },
  {
   "cell_type": "code",
   "execution_count": 2,
   "id": "fcab4f5c-0781-4219-8032-f8e90dc7c22f",
   "metadata": {},
   "outputs": [],
   "source": [
    "def apply_rule(cell, neighborhood_sum, rule_number):\n",
    "    rule = f\"{rule_number:08b}\"\n",
    "    index = 7 - neighborhood_sum\n",
    "    return int(rule[index]) if cell else cell"
   ]
  },
  {
   "cell_type": "code",
   "execution_count": 3,
   "id": "05870164-e357-4348-b11d-f3dbbe3601d6",
   "metadata": {},
   "outputs": [],
   "source": [
    "def get_neighborhood(state, x, y, neighborhood_type):\n",
    "    if neighborhood_type == 'Moore':\n",
    "        return state[max(0, x-1):x+2, max(0, y-1):y+2].flatten()\n",
    "    elif neighborhood_type == 'Neumann':\n",
    "        return np.array([\n",
    "            state[x, y], \n",
    "            state[x, max(0, y-1)], \n",
    "            state[x, min(y+1, state.shape[1]-1)], \n",
    "            state[max(0, x-1), y], \n",
    "            state[min(x+1, state.shape[0]-1), y]\n",
    "        ])"
   ]
  },
  {
   "cell_type": "code",
   "execution_count": 4,
   "id": "2569ec34-66ae-4132-a86a-16c666c06574",
   "metadata": {},
   "outputs": [],
   "source": [
    "def evolve(initial_state, rule_number, generations, neighborhood_type='moore'):\n",
    "    state = initial_state.copy()\n",
    "    history = [state]\n",
    "    \n",
    "    for _ in range(generations):\n",
    "        new_state = state.copy()\n",
    "        for x in range(state.shape[0]):\n",
    "            for y in range(state.shape[1]):\n",
    "                neighborhood = get_neighborhood(state, x, y, neighborhood_type)\n",
    "                cell = state[x, y]\n",
    "                neighborhood_sum = np.sum(neighborhood) - cell\n",
    "                new_state[x, y] = apply_rule(cell, neighborhood_sum, rule_number)\n",
    "        state = new_state\n",
    "        history.append(state)\n",
    "    \n",
    "    return history"
   ]
  },
  {
   "cell_type": "code",
   "execution_count": 5,
   "id": "aca2290e-f8b6-4b38-984b-8bd4c3b5704b",
   "metadata": {},
   "outputs": [],
   "source": [
    "def print_automata(automata_bi, generation):\n",
    "    plt.imshow(automata_bi, cmap='Greys', interpolation='nearest')\n",
    "    print(f\"  Tipo de Vecindario: {neighborhood_type}\")\n",
    "    plt.title(f\"N° Generación {generation}\")\n",
    "    plt.show()"
   ]
  },
  {
   "cell_type": "code",
   "execution_count": 8,
   "id": "32e015a8-1be1-4ca3-8893-e88d414efe4e",
   "metadata": {},
   "outputs": [
    {
     "name": "stdout",
     "output_type": "stream",
     "text": [
      "  Tipo de Vecindario: Neumann\n"
     ]
    },
    {
     "data": {
      "image/png": "[encoded data removed]",
      "text/plain": [
       "<Figure size 432x288 with 1 Axes>"
      ]
     },
     "metadata": {
      "needs_background": "light"
     },
     "output_type": "display_data"
    },
    {
     "name": "stdout",
     "output_type": "stream",
     "text": [
      "  Tipo de Vecindario: Neumann\n"
     ]
    },
    {
     "data": {
      "image/png": "[encoded data removed]",
      "text/plain": [
       "<Figure size 432x288 with 1 Axes>"
      ]
     },
     "metadata": {
      "needs_background": "light"
     },
     "output_type": "display_data"
    }
   ],
   "source": [
    "size = 100\n",
    "rule_number = 10\n",
    "generations = 1\n",
    "neighborhood_type = 'Neumann'\n",
    "\n",
    "initial_state = init(size)\n",
    "history = evolve(initial_state, rule_number, generations, neighborhood_type)\n",
    "\n",
    "for i, automata_bi in enumerate(history):\n",
    "    print_automata(automata_bi, i)"
   ]
  },
  {
   "cell_type": "code",
   "execution_count": null,
   "id": "8aa4dc71-fd99-4d00-ad42-2221381ce994",
   "metadata": {},
   "outputs": [],
   "source": []
  },
  {
   "cell_type": "code",
   "execution_count": null,
   "id": "16c2bb4e-834b-4a9c-be57-a5f791b179db",
   "metadata": {},
   "outputs": [],
   "source": []
  },
  {
   "cell_type": "code",
   "execution_count": null,
   "id": "90df13a4-cd78-4673-8b2d-1d1581860809",
   "metadata": {},
   "outputs": [],
   "source": []
  }
 ],
 "metadata": {
  "kernelspec": {
   "display_name": "Python 3 (ipykernel)",
   "language": "python",
   "name": "python3"
  },
  "language_info": {
   "codemirror_mode": {
    "name": "ipython",
    "version": 3
   },
   "file_extension": ".py",
   "mimetype": "text/x-python",
   "name": "python",
   "nbconvert_exporter": "python",
   "pygments_lexer": "ipython3",
   "version": "3.10.4"
  },
  "widgets": {
   "application/vnd.jupyter.widget-state+json": {
    "state": {},
    "version_major": 2,
    "version_minor": 0
   }
  }
 },
 "nbformat": 4,
 "nbformat_minor": 5
}
