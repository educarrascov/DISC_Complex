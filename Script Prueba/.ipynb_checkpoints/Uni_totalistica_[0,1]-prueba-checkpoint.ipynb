{
 "cells": [
  {
   "cell_type": "markdown",
   "id": "80ca27e2-1db9-4ee3-af73-536f08a2d024",
   "metadata": {},
   "source": [
    "## Dinámica de Consenso\n",
    "\n",
    "**Eduardo Carrasco**"
   ]
  },
  {
   "cell_type": "markdown",
   "id": "e6e7a442-e952-4f8e-8bb9-7b8cf8c074eb",
   "metadata": {},
   "source": [
    "### Estados Iniciales:"
   ]
  },
  {
   "cell_type": "code",
   "execution_count": null,
   "id": "02ec41dd-d784-4c80-9a3b-59e699bf9ae9",
   "metadata": {},
   "outputs": [],
   "source": [
    "import numpy as np\n",
    "import matplotlib.pyplot as plt\n",
    "import random\n",
    "\n",
    "# determinamos el estado inicial en forma aleatoria, con valores binarios y rango (tamaño de la grilla)\n",
    "def inicial_random(tamano):\n",
    "    np.random.seed(218)\n",
    "    estado_inicial_r = np.random.choice([0, 1], size=(tamano), p=[0.5, 0.5])\n",
    "    return estado_inicial_r"
   ]
  },
  {
   "cell_type": "code",
   "execution_count": null,
   "id": "e4d0b48f-e67b-49e3-b33d-55b7ec703f98",
   "metadata": {},
   "outputs": [],
   "source": [
    "# con esta función determinamos un estado inicial seteado al centro.\n",
    "def inicial_centrado(tamano):\n",
    "    estado_inicial_s = [0] * tamano\n",
    "    estado_inicial_s[tamano // 2] = 1\n",
    "    return estado_inicial_s"
   ]
  },
  {
   "cell_type": "code",
   "execution_count": null,
   "id": "6b7ca8f7-55d8-4dec-b4e2-b2173dbe47da",
   "metadata": {},
   "outputs": [],
   "source": [
    "import itertools\n",
    "def inicial_iterado(tamano):\n",
    "    estados_iniciales = list(itertools.product([0, 1], repeat=tamano))\n",
    "    return estados_iniciales"
   ]
  },
  {
   "cell_type": "markdown",
   "id": "0329be9b-6326-4abc-b054-79f097c9fdac",
   "metadata": {},
   "source": [
    "### Definición vecinos:"
   ]
  },
  {
   "cell_type": "code",
   "execution_count": null,
   "id": "ac3a6c8f-37d6-4cf2-ae3d-a3214e8823ec",
   "metadata": {},
   "outputs": [],
   "source": [
    "def vecinos(estado, i, r):\n",
    "    tamano = len(estado)\n",
    "    estado_ext = np.pad(estado, pad_width=r, mode='wrap')\n",
    "    vecindad = [estado_ext[i + r + j] for j in range(-r, r + 1) if j != 0]\n",
    "    return vecindad"
   ]
  },
  {
   "cell_type": "code",
   "execution_count": null,
   "id": "328c6970-77a5-4626-90dc-c578c8ac17a7",
   "metadata": {},
   "outputs": [],
   "source": [
    "def regla_totalistica(vecindad, suma_vecinos):\n",
    "    suma = sum(vecindad)\n",
    "    if suma in suma_vecinos:\n",
    "        return 1\n",
    "    else:\n",
    "        return 0"
   ]
  },
  {
   "cell_type": "code",
   "execution_count": null,
   "id": "3b7f6991-216e-4f37-a912-99380a6cda27",
   "metadata": {},
   "outputs": [],
   "source": [
    "def siguiente_generacion(estado, r, suma_vecinos):\n",
    "    tamano = len(estado)\n",
    "    nueva_generacion = np.zeros(tamano, dtype=int)\n",
    "\n",
    "    for i in range(tamano):\n",
    "        vecindad = vecinos(estado, i, r)\n",
    "        nueva_generacion[i] = regla_totalistica(vecindad, suma_vecinos)\n",
    "\n",
    "    return nueva_generacion"
   ]
  },
  {
   "cell_type": "code",
   "execution_count": null,
   "id": "a7a7573b-3aca-4594-b93c-88e9a7c015f4",
   "metadata": {},
   "outputs": [],
   "source": [
    "def automata_celular(r, tamano, generaciones, estado_inicial, suma_vecinos):\n",
    "    automata = np.zeros((generaciones, tamano), dtype=int)\n",
    "    automata[0] = estado_inicial\n",
    "\n",
    "    for t in range(1, generaciones):\n",
    "        automata[t] = siguiente_generacion(automata[t - 1], r, suma_vecinos)\n",
    "    \n",
    "    return automata"
   ]
  },
  {
   "cell_type": "code",
   "execution_count": null,
   "id": "2b4b120f-1be5-4533-bf96-2eebe21b1574",
   "metadata": {},
   "outputs": [],
   "source": [
    "def visualizar_automata(automata):\n",
    "    plt.imshow(automata, cmap='Greys', interpolation='nearest', vmin=0, vmax=1)\n",
    "    print(f\"  Radio: {r}\")\n",
    "    print(f\"  Número de Generaciones: {generaciones}\")\n",
    "    print(f\"  Tamaño de la grilla: {tamano}\")\n",
    "    #print(f\"  Período del Ciclo: {periodo_ciclo}\")\n",
    "    plt.xlabel('Tamaño de la grilla')\n",
    "    plt.ylabel('Generaciones')\n",
    "    plt.show()"
   ]
  },
  {
   "cell_type": "code",
   "execution_count": null,
   "id": "03a379fe-297b-489a-a568-cca5fdc0e6eb",
   "metadata": {},
   "outputs": [],
   "source": [
    "def guardar_automata(automata, nombre_archivo=\"automata.png\", ruta_carpeta=\"0. ACU/0. ACU_combinatoria\"):\n",
    "    plt.imshow(automata, cmap='Greys', interpolation='nearest')\n",
    "    plt.title(f\"Radio: {r}\\nNúmero de Generaciones: {generaciones}\\nTamaño de la grilla: {tamano}\\nSuma Vecinos: {suma_vecinos}\")\n",
    "    plt.xlabel('Tamaño de la grilla')\n",
    "    plt.ylabel('Generaciones')\n",
    "    \n",
    "    # Crear el nombre del archivo utilizando las variables\n",
    "    nombre_archivo = f\"UCA_R{r}_{tamano}_r{suma_vecinos}.png\"\n",
    "    \n",
    "    # Guardar la imagen en la misma carpeta del script con el nombre especificado\n",
    "    plt.savefig(ruta_carpeta + nombre_archivo, dpi=300, bbox_inches='tight', pad_inches=0)\n",
    "    plt.close()"
   ]
  },
  {
   "cell_type": "code",
   "execution_count": null,
   "id": "480f17e9-99de-4c50-a849-4ec71fd00aef",
   "metadata": {},
   "outputs": [],
   "source": [
    "## función para calcular el patron de comportamiento\n",
    "def patron_ciclo(automata):\n",
    "    n_filas = len(automata) #total generaciones\n",
    "    # se generan dos ciclos para i (estado inicial) y j (estado inicial + 1 \"siguiente\")\n",
    "    for i in range(n_filas):\n",
    "        for j in range(i + 1, n_filas):\n",
    "            #comparamos ambos ciclos\n",
    "            if np.array_equal(automata[i], automata[j]):\n",
    "                # si son iguales, el período se resta al otro (j-i)\n",
    "                return j - i\n",
    "    # caso contrario, la función dice None            \n",
    "    return 'No hay ciclo'"
   ]
  },
  {
   "cell_type": "code",
   "execution_count": null,
   "id": "fa8d6d0e-2df2-4e19-b2c6-d3d2ddc0bcef",
   "metadata": {},
   "outputs": [],
   "source": [
    "# Parámetros\n",
    "r = 1\n",
    "tamano = 5\n",
    "generaciones = 5\n",
    "suma_vecinos = [1] #regla totalistica\n",
    "estado_inicial = inicial_random(tamano) #centrado o random\n",
    "#estado_inicial = [0,0,0,0,1,0,0,0,0] #en base al tamaño de la variable tamano\n",
    "\n",
    "# Ejecución del autómata celular\n",
    "automata = automata_celular(r, tamano, generaciones, estado_inicial, suma_vecinos)\n",
    "visualizar_automata(automata)\n",
    "periodo_ciclo = patron_ciclo(automata)\n",
    "#guardar_automata(automata, \"mi_automata.png\", \"0. ACU/\")"
   ]
  },
  {
   "cell_type": "code",
   "execution_count": null,
   "id": "d75cfe40-3941-4745-a7dc-8b9d619962fb",
   "metadata": {},
   "outputs": [],
   "source": [
    "automata"
   ]
  },
  {
   "cell_type": "markdown",
   "id": "e8c5f16b-66e6-4eb9-a64d-09f57c6abb9c",
   "metadata": {},
   "source": [
    "___"
   ]
  },
  {
   "cell_type": "markdown",
   "id": "a22aaba9-6e31-4062-8d34-10454bdeaae6",
   "metadata": {},
   "source": [
    "___"
   ]
  },
  {
   "cell_type": "markdown",
   "id": "eed67cf2-e812-4113-9641-fdc95798307f",
   "metadata": {
    "tags": []
   },
   "source": [
    "### Generación Múltiple de Combinaciones:"
   ]
  },
  {
   "cell_type": "code",
   "execution_count": 1,
   "id": "5e41b74e-af51-42d9-8228-4e56fe4515e1",
   "metadata": {},
   "outputs": [],
   "source": [
    "import numpy as np\n",
    "import itertools\n",
    "import matplotlib.pyplot as plt\n",
    "\n",
    "def todas_las_combinaciones(tamano):\n",
    "    return list(itertools.product([0, 1], repeat=tamano))"
   ]
  },
  {
   "cell_type": "code",
   "execution_count": 2,
   "id": "46f99b7a-b54a-440b-87a9-f65a1500be60",
   "metadata": {},
   "outputs": [],
   "source": [
    "def vecinos(estado, i, r):\n",
    "    tamano = len(estado)\n",
    "    estado_ext = np.pad(estado, pad_width=r, mode='wrap')\n",
    "    vecindad = [estado_ext[i + r + j] for j in range(-r, r + 1) if j != 0]\n",
    "    return vecindad"
   ]
  },
  {
   "cell_type": "code",
   "execution_count": 3,
   "id": "1f820dc1-525e-49f8-b700-be453b57de21",
   "metadata": {},
   "outputs": [],
   "source": [
    "def regla_totalistica(vecindad, suma_vecinos):\n",
    "    suma = sum(vecindad)\n",
    "    if suma in suma_vecinos:\n",
    "        return 1\n",
    "    else:\n",
    "        return 0"
   ]
  },
  {
   "cell_type": "code",
   "execution_count": 4,
   "id": "49a501fe-2fd8-4c7e-aa72-f49a8a79a255",
   "metadata": {},
   "outputs": [],
   "source": [
    "def siguiente_generacion(estado, r, suma_vecinos):\n",
    "    tamano = len(estado)\n",
    "    nueva_generacion = np.zeros(tamano, dtype=int)\n",
    "\n",
    "    for i in range(tamano):\n",
    "        vecindad = vecinos(estado, i, r)\n",
    "        nueva_generacion[i] = regla_totalistica(vecindad, suma_vecinos)\n",
    "\n",
    "    return nueva_generacion"
   ]
  },
  {
   "cell_type": "code",
   "execution_count": 5,
   "id": "2b18e145-e63d-4aa2-90a2-6e51a906d50c",
   "metadata": {},
   "outputs": [],
   "source": [
    "def automata_celular(r, tamano, generaciones, estado_inicial, suma_vecinos):\n",
    "    automata = np.zeros((generaciones, tamano), dtype=int)\n",
    "    automata[0] = estado_inicial\n",
    "\n",
    "    for t in range(1, generaciones):\n",
    "        automata[t] = siguiente_generacion(automata[t - 1], r, suma_vecinos)\n",
    "    \n",
    "    return automata, automata[-1]"
   ]
  },
  {
   "cell_type": "code",
   "execution_count": 22,
   "id": "a0aac4fd-f1a4-49a3-8870-12e1926e147a",
   "metadata": {},
   "outputs": [],
   "source": [
    "def guardar_automata(automata, nombre_archivo=\"automata.png\", ruta_carpeta=\"\"):\n",
    "    plt.imshow(automata, cmap='Greys', interpolation='nearest', vmin=0, vmax=1)\n",
    "    plt.title(f\"Radio: {r}\\nRegla: {suma_vecinos}\\nTamaño de la grilla: {tamano}\")\n",
    "    plt.xlabel('Tamaño de la grilla')\n",
    "    plt.ylabel('Generaciones')\n",
    "\n",
    "    # Crear el nombre del archivo utilizando las variables\n",
    "    nombre_archivo = f\"UCA_R{r}_s{tamano}_rule{suma_vecinos}_{nombre_archivo}\"\n",
    "\n",
    "    # Guardar la imagen en la misma carpeta del script con el nombre especificado\n",
    "    plt.savefig(ruta_carpeta + nombre_archivo, dpi=300, bbox_inches='tight', pad_inches=0)\n",
    "    plt.close()"
   ]
  },
  {
   "cell_type": "code",
   "execution_count": 35,
   "id": "230d4fc6-1f63-4d13-b048-cfd19a62b8c4",
   "metadata": {},
   "outputs": [],
   "source": [
    "tamano = 5\n",
    "estados = todas_las_combinaciones(tamano)\n",
    "\n",
    "r = 1\n",
    "suma_vecinos = [2]\n",
    "generaciones = 12\n",
    "\n",
    "for estado in estados:\n",
    "    automata, _ = automata_celular(r, tamano, generaciones, estado, suma_vecinos)\n",
    "    nombre_archivo = f\"{''.join(map(str, estado))}.png\"\n",
    "    guardar_automata(automata, nombre_archivo)"
   ]
  },
  {
   "cell_type": "markdown",
   "id": "1af29e20-7c8d-4660-81b8-6a5f72f9acf7",
   "metadata": {},
   "source": [
    "___"
   ]
  },
  {
   "cell_type": "markdown",
   "id": "b547c57d-b87b-430f-8451-3dfa6b3e531e",
   "metadata": {},
   "source": [
    "___"
   ]
  },
  {
   "cell_type": "markdown",
   "id": "4993911b-69f7-4adf-b079-a611a58a61b2",
   "metadata": {},
   "source": [
    "### Métricas:"
   ]
  },
  {
   "cell_type": "markdown",
   "id": "f3bef8a6-e930-489c-9d06-d0f05474c387",
   "metadata": {
    "tags": []
   },
   "source": [
    "#### Entropía:"
   ]
  },
  {
   "cell_type": "code",
   "execution_count": null,
   "id": "62941172-b2b0-40b8-bf71-10c47175d6ef",
   "metadata": {},
   "outputs": [],
   "source": [
    "from scipy.stats import entropy\n",
    "def calcular_entropia(automata):\n",
    "    entropias = []\n",
    "    for fila in automata:\n",
    "        # Contamos la cantidad de 1 y 0 en cada fila\n",
    "        unique, counts = np.unique(fila, return_counts=True)\n",
    "        frecuencias = dict(zip(unique, counts))\n",
    "        # Calculamos la probabilidad de 0 y 1 en cada fila\n",
    "        probs = [frecuencias.get(i, 0) / len(fila) for i in [0, 1]]\n",
    "        entropias.append(entropy(probs, base=2))\n",
    "    return np.array(entropias)"
   ]
  },
  {
   "cell_type": "code",
   "execution_count": null,
   "id": "65660c71-606a-4776-8823-7a968b4d3178",
   "metadata": {},
   "outputs": [],
   "source": [
    "def graficar_entropia(entropias):\n",
    "    plt.plot(entropias)\n",
    "    plt.xlabel('Generación')\n",
    "    plt.ylabel('Entropía')\n",
    "    plt.title('Entropía por generación')\n",
    "    plt.show()"
   ]
  },
  {
   "cell_type": "code",
   "execution_count": null,
   "id": "f2cf5e42-a1e9-414d-a68c-957b64de80cc",
   "metadata": {},
   "outputs": [],
   "source": [
    "# Cálculo y gráfico de la entropía en f de las generaciones:\n",
    "entropias = calcular_entropia(automata)\n",
    "graficar_entropia(entropias)"
   ]
  },
  {
   "cell_type": "markdown",
   "id": "7bf60a3b-e498-47c9-86d4-939d903b7320",
   "metadata": {},
   "source": [
    "#### Densidad 1's"
   ]
  },
  {
   "cell_type": "code",
   "execution_count": null,
   "id": "48fc1ca1-9579-48c5-9f22-fbe195089bf3",
   "metadata": {},
   "outputs": [],
   "source": [
    "# Evolución de la densidad de 1, por generación.\n",
    "def calcular_densidad(automata):\n",
    "    #sumamos los valores y dividimos por el shape, tamaño grilla\n",
    "    densidades = np.sum(automata == 1, axis=1) / automata.shape[1]\n",
    "    return densidades"
   ]
  },
  {
   "cell_type": "code",
   "execution_count": null,
   "id": "4dd1f0bd-2c2f-445e-9a5e-f45ad916602c",
   "metadata": {},
   "outputs": [],
   "source": [
    "def graficar_densidad(densidades):\n",
    "    plt.plot(densidades)\n",
    "    plt.xlabel('Generación')\n",
    "    plt.ylabel('Densidad de 1')\n",
    "    plt.title('Densidad de 1 por generación')\n",
    "    plt.show()"
   ]
  },
  {
   "cell_type": "code",
   "execution_count": null,
   "id": "c0d30b87-c66e-4415-bf5f-e95d01ded4b2",
   "metadata": {},
   "outputs": [],
   "source": [
    "# Cálculo y gráfico de la densidad de 1:\n",
    "densidades = calcular_densidad(automata)\n",
    "graficar_densidad(densidades)"
   ]
  },
  {
   "cell_type": "markdown",
   "id": "1a2bf492-e3a6-44cb-bfc1-f988935543f3",
   "metadata": {},
   "source": [
    "#### Densidad de 0's"
   ]
  },
  {
   "cell_type": "code",
   "execution_count": null,
   "id": "67a7e29a-7534-4c23-9383-c3d1e6130d14",
   "metadata": {},
   "outputs": [],
   "source": [
    "# Evolución de la densidad de 1, por generación.\n",
    "def calcular_densidad_0(automata):\n",
    "    #sumamos los valores y dividimos por el shape, tamaño grilla\n",
    "    densidades_0 = np.sum(automata == 0, axis=1) / automata.shape[1]\n",
    "    return densidades_0"
   ]
  },
  {
   "cell_type": "code",
   "execution_count": null,
   "id": "cc40af13-7657-4285-afd6-a7882edf85e7",
   "metadata": {},
   "outputs": [],
   "source": [
    "def graficar_densidad_0(densidades_0):\n",
    "    plt.plot(densidades_0)\n",
    "    plt.xlabel('Generación')\n",
    "    plt.ylabel('Densidad de 0')\n",
    "    plt.title('Densidad de 0 por generación')\n",
    "    plt.show()"
   ]
  },
  {
   "cell_type": "code",
   "execution_count": null,
   "id": "7bd281e8-34bd-4916-b5f6-3fa18f5a55bc",
   "metadata": {},
   "outputs": [],
   "source": [
    "# Cálculo y gráfico de la densidad de 0:\n",
    "densidades_0 = calcular_densidad_0(automata)\n",
    "graficar_densidad_0(densidades_0)"
   ]
  },
  {
   "cell_type": "code",
   "execution_count": null,
   "id": "b147041b-d467-48de-9a4a-282c2f9ef910",
   "metadata": {},
   "outputs": [],
   "source": []
  },
  {
   "cell_type": "code",
   "execution_count": null,
   "id": "010e0788-5080-4160-991c-267244945399",
   "metadata": {},
   "outputs": [],
   "source": []
  },
  {
   "cell_type": "code",
   "execution_count": null,
   "id": "1b2feff5-5e57-4ffa-8c34-5de6fd3aa2d1",
   "metadata": {},
   "outputs": [],
   "source": []
  },
  {
   "cell_type": "code",
   "execution_count": null,
   "id": "bb6faa9b-f4e3-4b98-ba84-9c1c4db0f4e1",
   "metadata": {},
   "outputs": [],
   "source": [
    "tamano = 10\n",
    "estados = inicial_iterado(tamano)\n",
    "for estado in estados:\n",
    "    print(estado)"
   ]
  },
  {
   "cell_type": "code",
   "execution_count": null,
   "id": "a5a05cc6-012d-4462-bd05-c47db5a350c0",
   "metadata": {},
   "outputs": [],
   "source": []
  },
  {
   "cell_type": "code",
   "execution_count": null,
   "id": "02827fb1-74ed-42d9-8334-4401f88546a3",
   "metadata": {},
   "outputs": [],
   "source": []
  },
  {
   "cell_type": "code",
   "execution_count": null,
   "id": "9ffa66dd-ab90-4847-a7cf-2f833dcd8e74",
   "metadata": {},
   "outputs": [],
   "source": [
    "import numpy as np\n",
    "import matplotlib.pyplot as plt\n",
    "import imageio\n",
    "import os\n",
    "\n",
    "def inicial_random(tamano):\n",
    "    np.random.seed(218)\n",
    "    estado_inicial_r = np.random.choice([0, 1], size=(tamano, tamano), p=[0.5, 0.5])\n",
    "    return estado_inicial_r"
   ]
  },
  {
   "cell_type": "code",
   "execution_count": null,
   "id": "1356be54-2c1f-414d-845e-cdb5bdae2425",
   "metadata": {},
   "outputs": [],
   "source": [
    "def inicial_centrado(tamano):\n",
    "    estado_inicial_s = [0] * tamano\n",
    "    estado_inicial_s[tamano // 2] = 1\n",
    "    return estado_inicial_s"
   ]
  },
  {
   "cell_type": "code",
   "execution_count": null,
   "id": "de08a01a-8858-4d4f-9c5a-386b7b46896b",
   "metadata": {},
   "outputs": [],
   "source": [
    "def vecinos(estado, i, j, r):\n",
    "    tamano = estado.shape[0]\n",
    "    vecindad = []\n",
    "    for di in range(-r, r + 1):\n",
    "        for dj in range(-r, r + 1):\n",
    "            if di == 0 and dj == 0:\n",
    "                continue\n",
    "            ni = (i + di) % tamano\n",
    "            nj = (j + dj) % tamano\n",
    "            vecindad.append(estado[ni, nj])\n",
    "    return np.array(vecindad)"
   ]
  },
  {
   "cell_type": "code",
   "execution_count": null,
   "id": "9b8fc39e-1e10-4ce6-bb4b-2ab7c6b5b115",
   "metadata": {},
   "outputs": [],
   "source": [
    "def regla_totalistica(vecindad, suma_vecinos):\n",
    "    suma = sum(vecindad)\n",
    "    if suma in suma_vecinos:\n",
    "        return 1\n",
    "    else:\n",
    "        return 0"
   ]
  },
  {
   "cell_type": "code",
   "execution_count": null,
   "id": "d746a24a-6096-4454-8e54-a929bb5d2760",
   "metadata": {},
   "outputs": [],
   "source": [
    "def siguiente_generacion(estado, r, suma_vecinos):\n",
    "    tamano = estado.shape[0]\n",
    "    nueva_generacion = np.zeros_like(estado)\n",
    "\n",
    "    for i in range(tamano):\n",
    "        for j in range(tamano):\n",
    "            vecindad = vecinos(estado, i, j, r)\n",
    "            nueva_generacion[i, j] = regla_totalistica(vecindad, suma_vecinos)\n",
    "\n",
    "    return nueva_generacion"
   ]
  },
  {
   "cell_type": "code",
   "execution_count": null,
   "id": "cd4f37e4-82b2-42a9-99b4-b60163028c17",
   "metadata": {},
   "outputs": [],
   "source": [
    "def automata_celular(r, tamano, generaciones, estado_inicial, suma_vecinos):\n",
    "    automata = np.zeros((generaciones, tamano, tamano), dtype=int)\n",
    "    automata[0] = estado_inicial\n",
    "\n",
    "    for t in range(1, generaciones):\n",
    "        automata[t] = siguiente_generacion(automata[t - 1], r, suma_vecinos)\n",
    "    \n",
    "    return automata"
   ]
  },
  {
   "cell_type": "code",
   "execution_count": null,
   "id": "aecbfdfc-32ad-4583-a435-32bcd72ef440",
   "metadata": {},
   "outputs": [],
   "source": [
    "def visualizar_automata(automata, r, generaciones, tamano):\n",
    "    fig, axs = plt.subplots(1, generaciones, figsize=(15, 15))\n",
    "\n",
    "    for t in range(generaciones):\n",
    "        axs[t].imshow(automata[t], cmap='Greys', interpolation='nearest', vmin=0, vmax=1)\n",
    "        axs[t].set_xlabel('X')\n",
    "        axs[t].set_ylabel('Y')\n",
    "        axs[t].set_title(f'Generación {t} \\nRadio: {r} \\nTamaño: {tamano}')\n",
    "        axs[t].set_xticks([])\n",
    "        axs[t].set_yticks([])\n",
    "\n",
    "    plt.show()"
   ]
  },
  {
   "cell_type": "code",
   "execution_count": null,
   "id": "6d247e9e-39a4-45d6-ae9c-abc988c97854",
   "metadata": {},
   "outputs": [],
   "source": [
    "def crear_gif(automata, r, tamano, generaciones):\n",
    "    nombre_archivo = f\"BCA_r{r}_s{tamano}_gen{generaciones}.gif\"\n",
    "\n",
    "    imagenes = []\n",
    "    for idx, matriz in enumerate(automata):\n",
    "        imagen = plt.imshow(matriz, cmap='Greys', interpolation='nearest', vmin=-1, vmax=1)\n",
    "        titulo = f\"Generación {idx} \\nRadio {r} \\nTamaño Grilla {tamano}\"\n",
    "        plt.title(titulo)\n",
    "        plt.axis('on')\n",
    "        filename = \"temp.png\"\n",
    "        plt.savefig(filename)\n",
    "        plt.close()\n",
    "\n",
    "        image = imageio.v2.imread(filename)\n",
    "        os.remove(filename)\n",
    "        imagenes.append(image)\n",
    "\n",
    "    imageio.mimsave(nombre_archivo, imagenes, fps=10) #con fps regulo la tasa de imagenes por segundo"
   ]
  },
  {
   "cell_type": "code",
   "execution_count": null,
   "id": "6f786b4d-a151-4534-8fa6-8d2c185a35b1",
   "metadata": {},
   "outputs": [],
   "source": [
    "# Ejemplo de uso\n",
    "r = 1\n",
    "tamano = 10\n",
    "generaciones = 6\n",
    "estado_inicial = inicial_random(tamano)\n",
    "suma_vecinos = [2]\n",
    "\n",
    "# Ejecución del autómata celular\n",
    "automata = automata_celular(r, tamano, generaciones, estado_inicial, suma_vecinos)\n",
    "\n",
    "## Generación visualización condicionada a cantidad de generaciones.\n",
    "visualizar_automata(automata, r, generaciones, tamano)"
   ]
  },
  {
   "cell_type": "code",
   "execution_count": null,
   "id": "329ede66-8053-41ef-94fe-57117b164e81",
   "metadata": {},
   "outputs": [],
   "source": [
    "crear_gif(automata, r, tamano, generaciones)"
   ]
  },
  {
   "cell_type": "code",
   "execution_count": null,
   "id": "0e78b2dc-274c-4921-adbd-d034eb3f862e",
   "metadata": {},
   "outputs": [],
   "source": []
  }
 ],
 "metadata": {
  "kernelspec": {
   "display_name": "Python 3 (ipykernel)",
   "language": "python",
   "name": "python3"
  },
  "language_info": {
   "codemirror_mode": {
    "name": "ipython",
    "version": 3
   },
   "file_extension": ".py",
   "mimetype": "text/x-python",
   "name": "python",
   "nbconvert_exporter": "python",
   "pygments_lexer": "ipython3",
   "version": "3.10.4"
  },
  "widgets": {
   "application/vnd.jupyter.widget-state+json": {
    "state": {},
    "version_major": 2,
    "version_minor": 0
   }
  }
 },
 "nbformat": 4,
 "nbformat_minor": 5
}
