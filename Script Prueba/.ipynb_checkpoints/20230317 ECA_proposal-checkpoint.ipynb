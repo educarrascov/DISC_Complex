{
 "cells": [
  {
   "cell_type": "markdown",
   "id": "a4f22eaf-09a5-4966-b3bd-4ec76f594803",
   "metadata": {},
   "source": [
    "# Automatas Celulares:\n",
    "\n",
    "**Eduardo Carrasco Vidal**"
   ]
  },
  {
   "cell_type": "markdown",
   "id": "3c1a94b1-0c36-46dd-af4b-3c577fb6b189",
   "metadata": {
    "tags": []
   },
   "source": [
    "## Creación de un Elementary Celular Automata (Unidimensional):"
   ]
  },
  {
   "cell_type": "code",
   "execution_count": 129,
   "id": "33309fa7-28ae-4a24-90ed-76173ae27e31",
   "metadata": {},
   "outputs": [],
   "source": [
    "import numpy as np\n",
    "import matplotlib.pyplot as plt\n",
    "import random\n",
    "\n",
    "# determinamos el estado inicial en forma aleatoria, con valores binarios y rango (tamaño de la grilla)\n",
    "def inicial_random(tamano):\n",
    "    estado_inicial_r = [random.randint(0, 1) for _ in range(tamano)]\n",
    "    return estado_inicial_r"
   ]
  },
  {
   "cell_type": "code",
   "execution_count": 130,
   "id": "b2c0cfba-4f79-48d8-915e-27b25880d38b",
   "metadata": {},
   "outputs": [],
   "source": [
    "# con esta función determinamos un estado inicial seteado al centro.\n",
    "def inicial_seteado(tamano):\n",
    "    # generamos una lista de 0 por el tamaño\n",
    "    estado_inicial_s = [0] * tamano\n",
    "    # con esto dejamos el del medio, divide la grilla en 2 y deja el del medio en 1\n",
    "    estado_inicial_s[tamano // 2] = 1\n",
    "    return estado_inicial_s"
   ]
  },
  {
   "cell_type": "code",
   "execution_count": 131,
   "id": "08890d0f-7cda-4f40-a921-a2e2a709e4fe",
   "metadata": {},
   "outputs": [],
   "source": [
    "# Convierte un número de regla de Wolfram en un diccionario que mapea vecindarios de 3 células (width=3)\n",
    "# a estados de células actualizados\n",
    "def regla_binaria(numero_regla):\n",
    "    #Consideramos como 8 el numero de digitos\n",
    "    binario = np.binary_repr(numero_regla, width=8)\n",
    "    # Generamos división de valores binarios de 3 (del 0 al 7), para asignarle un digito de la regla\n",
    "    return {np.binary_repr(i, width=3): int(x) for i, x in enumerate(reversed(binario))}"
   ]
  },
  {
   "cell_type": "code",
   "execution_count": 132,
   "id": "66a25771-3ef6-4a6c-b34a-7ef3a4a2c148",
   "metadata": {},
   "outputs": [],
   "source": [
    "# Aplica la regla anterior a cada generación\n",
    "def siguiente_generacion(celdas, regla):\n",
    "    celdas_ext = np.pad(celdas, pad_width=1, mode='wrap')\n",
    "    vecindarios = [celdas_ext[i:i+3] for i in range(len(celdas))]\n",
    "    vecindarios_str = [''.join(str(x) for x in vec) for vec in vecindarios]\n",
    "    return np.array([regla[vec_str] for vec_str in vecindarios_str])"
   ]
  },
  {
   "cell_type": "code",
   "execution_count": 133,
   "id": "b99abc12-b21b-4460-98e2-bc9a0ca1ab98",
   "metadata": {},
   "outputs": [],
   "source": [
    "def automata_celular(numero_regla, n_generaciones, tamano, estado_inicial):\n",
    "    regla = regla_binaria(numero_regla)\n",
    "    generaciones = [estado_inicial]\n",
    "    # Itera n_generaciones - 1 veces, ya que la primera generación es el estado inicial.\n",
    "    for _ in range(n_generaciones - 1):\n",
    "        #  Genera la siguiente generación del autómata celular utilizando la función \n",
    "        # siguiente_generacion con la última generación en la lista generaciones y el diccionario de reglas regla.\n",
    "        nueva_gen = siguiente_generacion(generaciones[-1], regla)\n",
    "        ## Añade la nueva generación a la lista de generaciones.\n",
    "        generaciones.append(nueva_gen)\n",
    "        #Devuelve una matriz que representa todas las generaciones del autómata celular. \n",
    "        #La función np.vstack apila verticalmente las listas en la lista generaciones para formar una matriz.\n",
    "    return np.vstack(generaciones)"
   ]
  },
  {
   "cell_type": "code",
   "execution_count": 134,
   "id": "30f378ab-caf4-4e86-a40f-6a461b0238e0",
   "metadata": {},
   "outputs": [],
   "source": [
    "def visualizar_automata(automata):\n",
    "    plt.imshow(automata, cmap='Greys', interpolation='nearest')\n",
    "    print(f\"  Número de Regla de Wolfram: {numero_regla}\")\n",
    "    print(f\"  Número de Generaciones: {n_generaciones}\")\n",
    "    print(f\"  Tamaño de la grilla: {tamano}\")\n",
    "    print(f\"  Período del Ciclo: {periodo_ciclo}\")\n",
    "    plt.xlabel('Tamaño de la grilla')\n",
    "    plt.ylabel('Generaciones')\n",
    "    plt.show()"
   ]
  },
  {
   "cell_type": "code",
   "execution_count": 135,
   "id": "9d17293c-8273-4622-b48f-eb8306de49a4",
   "metadata": {},
   "outputs": [],
   "source": [
    "## función para calcular el patron de comportamiento\n",
    "def patron_ciclo(automata):\n",
    "    n_filas = len(automata) #total generaciones\n",
    "    # se generan dos ciclos para i (estado inicial) y j (estado inicial + 1 \"siguiente\")\n",
    "    for i in range(n_filas):\n",
    "        for j in range(i + 1, n_filas):\n",
    "            #comparamos ambos ciclos\n",
    "            if np.array_equal(automata[i], automata[j]):\n",
    "                # si son iguales, el período se resta al otro (j-i)\n",
    "                return j - i\n",
    "    # caso contrario, la función dice None            \n",
    "    return 'No hay ciclo'"
   ]
  },
  {
   "cell_type": "markdown",
   "id": "b55afe23-d284-4fc3-a954-d1862c49260b",
   "metadata": {},
   "source": [
    "### Regla 30"
   ]
  },
  {
   "cell_type": "code",
   "execution_count": 173,
   "id": "56980c70-0866-4b22-bdcf-5d886fe1b869",
   "metadata": {},
   "outputs": [
    {
     "name": "stdout",
     "output_type": "stream",
     "text": [
      "  Número de Regla de Wolfram: 30\n",
      "  Número de Generaciones: 100\n",
      "  Tamaño de la grilla: 200\n",
      "  Período del Ciclo: No hay ciclo\n"
     ]
    },
    {
     "data": {
      "image/png": "[encoded data removed]",
      "text/plain": [
       "<Figure size 640x480 with 1 Axes>"
      ]
     },
     "metadata": {},
     "output_type": "display_data"
    }
   ],
   "source": [
    "## Definición de condiciones para la simulación:\n",
    "## se puede seleccionar random o seteado\n",
    "numero_regla = 30\n",
    "n_generaciones = 100\n",
    "tamano = 200\n",
    "estado_inicial = inicial_seteado(tamano) #random o seteado\n",
    "\n",
    "automata = automata_celular(numero_regla, n_generaciones, tamano, estado_inicial)\n",
    "visualizar_automata(automata)\n",
    "periodo_ciclo = patron_ciclo(automata)"
   ]
  },
  {
   "cell_type": "code",
   "execution_count": 174,
   "id": "8c56b735-679f-4644-97eb-c0b0f94edbbf",
   "metadata": {},
   "outputs": [
    {
     "data": {
      "text/plain": [
       "array([[0, 0, 0, ..., 0, 0, 0],\n",
       "       [0, 0, 0, ..., 0, 0, 0],\n",
       "       [0, 0, 0, ..., 0, 0, 0],\n",
       "       ...,\n",
       "       [0, 0, 0, ..., 1, 0, 0],\n",
       "       [0, 0, 1, ..., 0, 1, 0],\n",
       "       [0, 1, 1, ..., 1, 1, 1]])"
      ]
     },
     "execution_count": 174,
     "metadata": {},
     "output_type": "execute_result"
    }
   ],
   "source": [
    "automata[:,:]"
   ]
  },
  {
   "cell_type": "code",
   "execution_count": 175,
   "id": "49be20eb-cb07-496f-99b2-8200001d658c",
   "metadata": {},
   "outputs": [
    {
     "data": {
      "text/plain": [
       "'00011110'"
      ]
     },
     "execution_count": 175,
     "metadata": {},
     "output_type": "execute_result"
    }
   ],
   "source": [
    "## Representación binaria de la primera regla\n",
    "## se puede usar para cualquier representación binaria\n",
    "np.binary_repr(numero_regla, width=8)"
   ]
  },
  {
   "cell_type": "code",
   "execution_count": 176,
   "id": "9d696b25-50a1-4282-96ef-f67a2a10b6a0",
   "metadata": {},
   "outputs": [
    {
     "data": {
      "text/plain": [
       "100"
      ]
     },
     "execution_count": 176,
     "metadata": {},
     "output_type": "execute_result"
    }
   ],
   "source": [
    "n_filas = len(automata)\n",
    "n_filas"
   ]
  },
  {
   "cell_type": "code",
   "execution_count": 177,
   "id": "b37bd5b0-3c27-48b9-badd-7394a3cc7c34",
   "metadata": {},
   "outputs": [
    {
     "data": {
      "text/plain": [
       "'No hay ciclo'"
      ]
     },
     "execution_count": 177,
     "metadata": {},
     "output_type": "execute_result"
    }
   ],
   "source": [
    "periodo_ciclo = patron_ciclo(automata)\n",
    "periodo_ciclo"
   ]
  },
  {
   "cell_type": "markdown",
   "id": "4b3a5e8b-d8fe-4936-a93a-01c4c449ad7c",
   "metadata": {},
   "source": [
    "## Regla 20:"
   ]
  },
  {
   "cell_type": "code",
   "execution_count": 178,
   "id": "74c48d3e-7cc3-4ef8-a75c-006e6d9b945c",
   "metadata": {},
   "outputs": [
    {
     "name": "stdout",
     "output_type": "stream",
     "text": [
      "  Número de Regla de Wolfram: 20\n",
      "  Número de Generaciones: 200\n",
      "  Tamaño de la grilla: 50\n",
      "  Período del Ciclo: 50\n"
     ]
    },
    {
     "data": {
      "image/png": "[encoded data removed]",
      "text/plain": [
       "<Figure size 640x480 with 1 Axes>"
      ]
     },
     "metadata": {},
     "output_type": "display_data"
    }
   ],
   "source": [
    "## Definición de condiciones para la simulación:\n",
    "## se puede seleccionar random o seteado\n",
    "numero_regla = 20\n",
    "n_generaciones = 200\n",
    "tamano = 50\n",
    "estado_inicial = inicial_seteado(tamano) #random o seteado\n",
    "\n",
    "automata = automata_celular(numero_regla, n_generaciones, tamano, estado_inicial)\n",
    "periodo_ciclo = patron_ciclo(automata)\n",
    "visualizar_automata(automata)"
   ]
  },
  {
   "cell_type": "markdown",
   "id": "7513a0b9-faf1-4aa6-ba96-af39a389e3b2",
   "metadata": {
    "tags": []
   },
   "source": [
    "### Regla 50:"
   ]
  },
  {
   "cell_type": "code",
   "execution_count": 179,
   "id": "81a074f1-eee0-4237-ab9d-49ff93a00474",
   "metadata": {},
   "outputs": [
    {
     "name": "stdout",
     "output_type": "stream",
     "text": [
      "  Número de Regla de Wolfram: 50\n",
      "  Número de Generaciones: 50\n",
      "  Tamaño de la grilla: 100\n",
      "  Período del Ciclo: No hay ciclo\n"
     ]
    },
    {
     "data": {
      "image/png": "[encoded data removed]",
      "text/plain": [
       "<Figure size 640x480 with 1 Axes>"
      ]
     },
     "metadata": {},
     "output_type": "display_data"
    }
   ],
   "source": [
    "## Definición de condiciones para la simulación:\n",
    "## se puede seleccionar random o seteado\n",
    "numero_regla = 50\n",
    "n_generaciones = 50\n",
    "tamano = 100\n",
    "estado_inicial = inicial_seteado(tamano) #random o seteado\n",
    "\n",
    "automata = automata_celular(numero_regla, n_generaciones, tamano, estado_inicial)\n",
    "periodo_ciclo = patron_ciclo(automata)\n",
    "visualizar_automata(automata)"
   ]
  },
  {
   "cell_type": "markdown",
   "id": "07900951-3722-4fda-9d06-855ca5f7f5cc",
   "metadata": {},
   "source": [
    "### Regla 110:"
   ]
  },
  {
   "cell_type": "code",
   "execution_count": 180,
   "id": "bcb79f19-1331-44ad-9b0e-79e4fd1ffad8",
   "metadata": {},
   "outputs": [
    {
     "name": "stdout",
     "output_type": "stream",
     "text": [
      "  Número de Regla de Wolfram: 110\n",
      "  Número de Generaciones: 100\n",
      "  Tamaño de la grilla: 200\n",
      "  Período del Ciclo: No hay ciclo\n"
     ]
    },
    {
     "data": {
      "image/png": "[encoded data removed]",
      "text/plain": [
       "<Figure size 640x480 with 1 Axes>"
      ]
     },
     "metadata": {},
     "output_type": "display_data"
    }
   ],
   "source": [
    "## Definición de condiciones para la simulación:\n",
    "## se puede seleccionar random o seteado\n",
    "numero_regla = 110\n",
    "n_generaciones = 100\n",
    "tamano = 200\n",
    "estado_inicial = inicial_seteado(tamano)\n",
    "\n",
    "automata = automata_celular(numero_regla, n_generaciones, tamano, estado_inicial)\n",
    "periodo_ciclo = patron_ciclo(automata)\n",
    "visualizar_automata(automata)"
   ]
  },
  {
   "cell_type": "markdown",
   "id": "9c88d802-9626-4950-beb7-5536313b6e45",
   "metadata": {},
   "source": [
    "### Regla 90:"
   ]
  },
  {
   "cell_type": "code",
   "execution_count": 181,
   "id": "92e412cd-2971-4479-b13c-b4c5ce02bcff",
   "metadata": {},
   "outputs": [
    {
     "name": "stdout",
     "output_type": "stream",
     "text": [
      "  Número de Regla de Wolfram: 60\n",
      "  Número de Generaciones: 100\n",
      "  Tamaño de la grilla: 200\n",
      "  Período del Ciclo: No hay ciclo\n"
     ]
    },
    {
     "data": {
      "image/png": "[encoded data removed]",
      "text/plain": [
       "<Figure size 640x480 with 1 Axes>"
      ]
     },
     "metadata": {},
     "output_type": "display_data"
    }
   ],
   "source": [
    "## Definición de condiciones para la simulación:\n",
    "## se puede seleccionar random o seteado\n",
    "numero_regla = 60\n",
    "n_generaciones = 100\n",
    "tamano = 200\n",
    "estado_inicial = inicial_seteado(tamano)\n",
    "\n",
    "automata = automata_celular(numero_regla, n_generaciones, tamano, estado_inicial)\n",
    "periodo_ciclo = patron_ciclo(automata)\n",
    "visualizar_automata(automata)"
   ]
  },
  {
   "cell_type": "code",
   "execution_count": null,
   "id": "8aa4dc71-fd99-4d00-ad42-2221381ce994",
   "metadata": {},
   "outputs": [],
   "source": []
  },
  {
   "cell_type": "code",
   "execution_count": null,
   "id": "16c2bb4e-834b-4a9c-be57-a5f791b179db",
   "metadata": {},
   "outputs": [],
   "source": []
  },
  {
   "cell_type": "code",
   "execution_count": null,
   "id": "90df13a4-cd78-4673-8b2d-1d1581860809",
   "metadata": {},
   "outputs": [],
   "source": []
  }
 ],
 "metadata": {
  "kernelspec": {
   "display_name": "Python 3 (ipykernel)",
   "language": "python",
   "name": "python3"
  },
  "language_info": {
   "codemirror_mode": {
    "name": "ipython",
    "version": 3
   },
   "file_extension": ".py",
   "mimetype": "text/x-python",
   "name": "python",
   "nbconvert_exporter": "python",
   "pygments_lexer": "ipython3",
   "version": "3.9.13"
  }
 },
 "nbformat": 4,
 "nbformat_minor": 5
}
