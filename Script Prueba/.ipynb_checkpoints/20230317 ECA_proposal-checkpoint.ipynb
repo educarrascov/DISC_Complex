{
 "cells": [
  {
   "cell_type": "markdown",
   "id": "3c1a94b1-0c36-46dd-af4b-3c577fb6b189",
   "metadata": {
    "tags": []
   },
   "source": [
    "## Creación de un Elementary Celular Automata (Unidimensional):\n",
    "\n",
    "**Eduardo Carrasco Vidal**"
   ]
  },
  {
   "cell_type": "code",
   "execution_count": 148,
   "id": "33309fa7-28ae-4a24-90ed-76173ae27e31",
   "metadata": {},
   "outputs": [],
   "source": [
    "import numpy as np\n",
    "import matplotlib.pyplot as plt\n",
    "import random\n",
    "\n",
    "# determinamos el estado inicial en forma aleatoria, con valores binarios y rango (tamaño de ancho)\n",
    "def inicial_random(tamano):\n",
    "    estado_inicial_r = [random.randint(0, 1) for _ in range(tamano)]\n",
    "    return estado_inicial_r"
   ]
  },
  {
   "cell_type": "code",
   "execution_count": 149,
   "id": "b2c0cfba-4f79-48d8-915e-27b25880d38b",
   "metadata": {},
   "outputs": [],
   "source": [
    "# con esta función determinamos un estado inicial seteado al centro.\n",
    "def inicial_seteado(tamano):\n",
    "    estado_inicial_s = [0] * tamano\n",
    "    estado_inicial_s[tamano // 2] = 1\n",
    "    return estado_inicial_s"
   ]
  },
  {
   "cell_type": "code",
   "execution_count": 229,
   "id": "08890d0f-7cda-4f40-a921-a2e2a709e4fe",
   "metadata": {},
   "outputs": [],
   "source": [
    "# Convierte un número de regla de Wolfram en un diccionario que mapea vecindarios de 3 células (width=3)\n",
    "# a estados de células actualizados\n",
    "def regla_binaria(numero_regla):\n",
    "    #Consideramos como 8 el numero de publicaciones\n",
    "    binario = np.binary_repr(numero_regla, width=8)\n",
    "    return {np.binary_repr(i, width=3): int(x) for i, x in enumerate(reversed(binario))}"
   ]
  },
  {
   "cell_type": "code",
   "execution_count": 230,
   "id": "66a25771-3ef6-4a6c-b34a-7ef3a4a2c148",
   "metadata": {},
   "outputs": [],
   "source": [
    "# Aplica la regla anterior a cada generación\n",
    "def siguiente_generacion(celdas, regla):\n",
    "    celdas_ext = np.pad(celdas, pad_width=1, mode='wrap')\n",
    "    vecindarios = [celdas_ext[i:i+3] for i in range(len(celdas))]\n",
    "    vecindarios_str = [''.join(str(x) for x in vec) for vec in vecindarios]\n",
    "    return np.array([regla[vec_str] for vec_str in vecindarios_str])"
   ]
  },
  {
   "cell_type": "code",
   "execution_count": 231,
   "id": "b99abc12-b21b-4460-98e2-bc9a0ca1ab98",
   "metadata": {},
   "outputs": [],
   "source": [
    "def automata_celular(numero_regla, n_generaciones, tamano, estado_inicial):\n",
    "    regla = regla_binaria(numero_regla)\n",
    "    generaciones = [estado_inicial]\n",
    "    for _ in range(n_generaciones - 1):\n",
    "        nueva_gen = siguiente_generacion(generaciones[-1], regla)\n",
    "        generaciones.append(nueva_gen)\n",
    "    return np.vstack(generaciones)"
   ]
  },
  {
   "cell_type": "code",
   "execution_count": 238,
   "id": "30f378ab-caf4-4e86-a40f-6a461b0238e0",
   "metadata": {},
   "outputs": [],
   "source": [
    "def visualizar_automata(automata, style=\"default\"):\n",
    "    plt.imshow(automata, cmap='Greys', interpolation='nearest')\n",
    "    print(f\"  Número de regla de Wolfram: {numero_regla}\")\n",
    "    print(f\"  Número de generaciones: {n_generaciones}\")\n",
    "    print(f\"  Tamaño de la grilla: {tamano}\")\n",
    "    plt.xlabel('Tamaño de la grilla')\n",
    "    plt.ylabel('Generaciones')\n",
    "    plt.show()"
   ]
  },
  {
   "cell_type": "markdown",
   "id": "b55afe23-d284-4fc3-a954-d1862c49260b",
   "metadata": {},
   "source": [
    "### Regla 30"
   ]
  },
  {
   "cell_type": "code",
   "execution_count": 237,
   "id": "56980c70-0866-4b22-bdcf-5d886fe1b869",
   "metadata": {},
   "outputs": [
    {
     "name": "stdout",
     "output_type": "stream",
     "text": [
      "  Número de regla de Wolfram: 30\n",
      "  Número de generaciones: 10\n",
      "  Tamaño de la grilla: 20\n"
     ]
    },
    {
     "data": {
      "image/png": "[encoded data removed]",
      "text/plain": [
       "<Figure size 640x480 with 1 Axes>"
      ]
     },
     "metadata": {},
     "output_type": "display_data"
    }
   ],
   "source": [
    "## Definición de condiciones para la simulación:\n",
    "## se puede seleccionar random o seteado\n",
    "numero_regla = 30\n",
    "n_generaciones = 10\n",
    "tamano = 20\n",
    "estado_inicial = inicial_seteado(tamano)\n",
    "\n",
    "automata = automata_celular(numero_regla, n_generaciones, tamano, estado_inicial)\n",
    "visualizar_automata(automata)"
   ]
  },
  {
   "cell_type": "code",
   "execution_count": 234,
   "id": "8c56b735-679f-4644-97eb-c0b0f94edbbf",
   "metadata": {},
   "outputs": [
    {
     "data": {
      "text/plain": [
       "array([[0, 0, 0, 0, 0, 0, 0, 0, 0, 0, 1, 0, 0, 0, 0, 0, 0, 0, 0, 0],\n",
       "       [0, 0, 0, 0, 0, 0, 0, 0, 0, 1, 1, 1, 0, 0, 0, 0, 0, 0, 0, 0],\n",
       "       [0, 0, 0, 0, 0, 0, 0, 0, 1, 1, 0, 0, 1, 0, 0, 0, 0, 0, 0, 0],\n",
       "       [0, 0, 0, 0, 0, 0, 0, 1, 1, 0, 1, 1, 1, 1, 0, 0, 0, 0, 0, 0],\n",
       "       [0, 0, 0, 0, 0, 0, 1, 1, 0, 0, 1, 0, 0, 0, 1, 0, 0, 0, 0, 0],\n",
       "       [0, 0, 0, 0, 0, 1, 1, 0, 1, 1, 1, 1, 0, 1, 1, 1, 0, 0, 0, 0],\n",
       "       [0, 0, 0, 0, 1, 1, 0, 0, 1, 0, 0, 0, 0, 1, 0, 0, 1, 0, 0, 0],\n",
       "       [0, 0, 0, 1, 1, 0, 1, 1, 1, 1, 0, 0, 1, 1, 1, 1, 1, 1, 0, 0],\n",
       "       [0, 0, 1, 1, 0, 0, 1, 0, 0, 0, 1, 1, 1, 0, 0, 0, 0, 0, 1, 0],\n",
       "       [0, 1, 1, 0, 1, 1, 1, 1, 0, 1, 1, 0, 0, 1, 0, 0, 0, 1, 1, 1]])"
      ]
     },
     "execution_count": 234,
     "metadata": {},
     "output_type": "execute_result"
    }
   ],
   "source": [
    "automata[:,:]"
   ]
  },
  {
   "cell_type": "code",
   "execution_count": 235,
   "id": "f0420a35-5bb2-4fac-8e80-b493307dd0a2",
   "metadata": {},
   "outputs": [
    {
     "data": {
      "text/plain": [
       "[0, 0, 0, 0, 0, 0, 0, 0, 0, 0, 1, 0, 0, 0, 0, 0, 0, 0, 0, 0]"
      ]
     },
     "execution_count": 235,
     "metadata": {},
     "output_type": "execute_result"
    }
   ],
   "source": [
    "estado_inicial"
   ]
  },
  {
   "cell_type": "code",
   "execution_count": 236,
   "id": "49be20eb-cb07-496f-99b2-8200001d658c",
   "metadata": {},
   "outputs": [
    {
     "data": {
      "text/plain": [
       "'00011110'"
      ]
     },
     "execution_count": 236,
     "metadata": {},
     "output_type": "execute_result"
    }
   ],
   "source": [
    "## Representación binaria de la primera regla\n",
    "## se puede usar para cualquier representación binaria\n",
    "np.binary_repr(numero_regla, width=8)"
   ]
  },
  {
   "cell_type": "markdown",
   "id": "7513a0b9-faf1-4aa6-ba96-af39a389e3b2",
   "metadata": {
    "tags": []
   },
   "source": [
    "### Regla 50:"
   ]
  },
  {
   "cell_type": "code",
   "execution_count": 239,
   "id": "81a074f1-eee0-4237-ab9d-49ff93a00474",
   "metadata": {},
   "outputs": [
    {
     "name": "stdout",
     "output_type": "stream",
     "text": [
      "  Número de regla de Wolfram: 50\n",
      "  Número de generaciones: 10\n",
      "  Tamaño de la grilla: 20\n"
     ]
    },
    {
     "data": {
      "image/png": "[encoded data removed]",
      "text/plain": [
       "<Figure size 640x480 with 1 Axes>"
      ]
     },
     "metadata": {},
     "output_type": "display_data"
    }
   ],
   "source": [
    "## Definición de condiciones para la simulación:\n",
    "## se puede seleccionar random o seteado\n",
    "numero_regla = 50\n",
    "n_generaciones = 10\n",
    "tamano = 20\n",
    "estado_inicial = inicial_seteado(tamano)\n",
    "\n",
    "automata = automata_celular(numero_regla, n_generaciones, tamano, estado_inicial)\n",
    "visualizar_automata(automata)"
   ]
  },
  {
   "cell_type": "markdown",
   "id": "07900951-3722-4fda-9d06-855ca5f7f5cc",
   "metadata": {},
   "source": [
    "### Regla 110:"
   ]
  },
  {
   "cell_type": "code",
   "execution_count": 241,
   "id": "bcb79f19-1331-44ad-9b0e-79e4fd1ffad8",
   "metadata": {},
   "outputs": [
    {
     "name": "stdout",
     "output_type": "stream",
     "text": [
      "  Número de regla de Wolfram: 110\n",
      "  Número de generaciones: 10\n",
      "  Tamaño de la grilla: 20\n"
     ]
    },
    {
     "data": {
      "image/png": "[encoded data removed]",
      "text/plain": [
       "<Figure size 640x480 with 1 Axes>"
      ]
     },
     "metadata": {},
     "output_type": "display_data"
    }
   ],
   "source": [
    "## Definición de condiciones para la simulación:\n",
    "## se puede seleccionar random o seteado\n",
    "numero_regla = 110\n",
    "n_generaciones = 10\n",
    "tamano = 20\n",
    "estado_inicial = inicial_seteado(tamano)\n",
    "\n",
    "automata = automata_celular(numero_regla, n_generaciones, tamano, estado_inicial)\n",
    "visualizar_automata(automata)"
   ]
  },
  {
   "cell_type": "markdown",
   "id": "6c11e9ce-f31e-496b-a930-815dadcf0b3f",
   "metadata": {},
   "source": [
    "## Creación de un Elementary Celular Automata (Bidimensional):"
   ]
  },
  {
   "cell_type": "code",
   "execution_count": null,
   "id": "1878c2ad-3bea-4116-b36b-4996190b49da",
   "metadata": {},
   "outputs": [],
   "source": []
  }
 ],
 "metadata": {
  "kernelspec": {
   "display_name": "Python 3 (ipykernel)",
   "language": "python",
   "name": "python3"
  },
  "language_info": {
   "codemirror_mode": {
    "name": "ipython",
    "version": 3
   },
   "file_extension": ".py",
   "mimetype": "text/x-python",
   "name": "python",
   "nbconvert_exporter": "python",
   "pygments_lexer": "ipython3",
   "version": "3.9.13"
  }
 },
 "nbformat": 4,
 "nbformat_minor": 5
}
