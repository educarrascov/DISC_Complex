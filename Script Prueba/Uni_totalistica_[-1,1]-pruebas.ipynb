{
 "cells": [
  {
   "cell_type": "markdown",
   "id": "80ca27e2-1db9-4ee3-af73-536f08a2d024",
   "metadata": {},
   "source": [
    "# Dinámica de Consenso\n",
    "\n",
    "**Eduardo Carrasco**"
   ]
  },
  {
   "cell_type": "markdown",
   "id": "505e2662-835a-45d0-924e-1efa2ff9bb6e",
   "metadata": {
    "tags": []
   },
   "source": [
    "## Automata Celular Unidimensional:"
   ]
  },
  {
   "cell_type": "markdown",
   "id": "e6e7a442-e952-4f8e-8bb9-7b8cf8c074eb",
   "metadata": {
    "tags": []
   },
   "source": [
    "### Estados Iniciales: [-1, 1]"
   ]
  },
  {
   "cell_type": "code",
   "execution_count": null,
   "id": "02ec41dd-d784-4c80-9a3b-59e699bf9ae9",
   "metadata": {},
   "outputs": [],
   "source": [
    "import numpy as np\n",
    "import matplotlib.pyplot as plt\n",
    "import random\n",
    "import os\n",
    "\n",
    "# determinamos el estado inicial en forma aleatoria, con valores binarios y rango (tamaño de la grilla)\n",
    "def inicial_random(tamano):\n",
    "    np.random.seed(218)\n",
    "    estado_inicial_r = np.random.choice([-1, 1], size=(tamano), p=[0.5, 0.5])\n",
    "    return estado_inicial_r"
   ]
  },
  {
   "cell_type": "code",
   "execution_count": null,
   "id": "e4d0b48f-e67b-49e3-b33d-55b7ec703f98",
   "metadata": {},
   "outputs": [],
   "source": [
    "# con esta función determinamos un estado inicial seteado al centro.\n",
    "def inicial_centrado(tamano):\n",
    "    estado_inicial_s = [-1] * tamano\n",
    "    estado_inicial_s[tamano // 2] = 1\n",
    "    return estado_inicial_s"
   ]
  },
  {
   "cell_type": "markdown",
   "id": "0329be9b-6326-4abc-b054-79f097c9fdac",
   "metadata": {},
   "source": [
    "### Definición vecinos:"
   ]
  },
  {
   "cell_type": "code",
   "execution_count": null,
   "id": "ac3a6c8f-37d6-4cf2-ae3d-a3214e8823ec",
   "metadata": {},
   "outputs": [],
   "source": [
    "# Observar Ambos Vecinos\n",
    "def vecinos(estado, i, r):\n",
    "    tamano = len(estado)\n",
    "    estado_ext = np.pad(estado, pad_width=r, mode='wrap')\n",
    "    vecindad = [estado_ext[i + r + j] for j in range(-r, r + 1)]\n",
    "    return vecindad"
   ]
  },
  {
   "cell_type": "markdown",
   "id": "d128aace-14ba-44cc-94c0-c098a0859ef2",
   "metadata": {},
   "source": [
    "_______"
   ]
  },
  {
   "cell_type": "markdown",
   "id": "818c1586-b069-478e-b299-e15a1950665e",
   "metadata": {},
   "source": [
    "____"
   ]
  },
  {
   "cell_type": "markdown",
   "id": "8d7b68df-1938-4bc1-a5c1-2ead4967687b",
   "metadata": {},
   "source": [
    "### Definición de Reglas:"
   ]
  },
  {
   "cell_type": "code",
   "execution_count": null,
   "id": "328c6970-77a5-4626-90dc-c578c8ac17a7",
   "metadata": {},
   "outputs": [],
   "source": [
    "def regla_totalistica(vecindad):\n",
    "    suma = np.sum(vecindad)\n",
    "    if suma > 0:\n",
    "        return 1\n",
    "    elif suma < 0:\n",
    "        return -1\n",
    "    else:\n",
    "        return vecindad[len(vecindad)//2]"
   ]
  },
  {
   "cell_type": "markdown",
   "id": "ac6e32b0-db27-4a30-840f-4da9fc27a50f",
   "metadata": {},
   "source": [
    "### Cálculo Siguiente Generación:"
   ]
  },
  {
   "cell_type": "code",
   "execution_count": null,
   "id": "3b7f6991-216e-4f37-a912-99380a6cda27",
   "metadata": {},
   "outputs": [],
   "source": [
    "def siguiente_generacion(estado, r):\n",
    "    tamano = len(estado)\n",
    "    nueva_generacion = np.zeros(tamano, dtype=int)\n",
    "\n",
    "    for i in range(tamano):\n",
    "        vecindad = vecinos(estado, i, r)\n",
    "        nueva_generacion[i] = regla_totalistica(vecindad)\n",
    "\n",
    "    return nueva_generacion"
   ]
  },
  {
   "cell_type": "code",
   "execution_count": null,
   "id": "a7a7573b-3aca-4594-b93c-88e9a7c015f4",
   "metadata": {},
   "outputs": [],
   "source": [
    "def automata_celular(r, tamano, generaciones, estado_inicial):\n",
    "    automata = np.zeros((generaciones, tamano), dtype=int)\n",
    "    automata[0] = estado_inicial\n",
    "\n",
    "    for t in range(1, generaciones):\n",
    "        automata[t] = siguiente_generacion(automata[t - 1], r)\n",
    "\n",
    "    return automata"
   ]
  },
  {
   "cell_type": "code",
   "execution_count": null,
   "id": "2b4b120f-1be5-4533-bf96-2eebe21b1574",
   "metadata": {},
   "outputs": [],
   "source": [
    "def visualizar_automata(automata):\n",
    "    plt.imshow(automata, cmap='Greys', interpolation='nearest')\n",
    "    plt.xlabel('Tamaño de la grilla')\n",
    "    plt.ylabel('Generaciones')\n",
    "    plt.show()"
   ]
  },
  {
   "cell_type": "code",
   "execution_count": null,
   "id": "03a379fe-297b-489a-a568-cca5fdc0e6eb",
   "metadata": {},
   "outputs": [],
   "source": [
    "def guardar_automata(automata, nombre_archivo=\"automata.png\", ruta_carpeta=\"0. ACU/0. ACU_combinatoria\"):\n",
    "    plt.imshow(automata, cmap='Greys', interpolation='nearest')\n",
    "    plt.title(f\"Radio: {r}\\nNúmero de Generaciones: {generaciones}\\nTamaño de la grilla: {tamano}\\nSuma Vecinos: {suma_vecinos}\")\n",
    "    plt.xlabel('Tamaño de la grilla')\n",
    "    plt.ylabel('Generaciones')\n",
    "    \n",
    "    # Crear el nombre del archivo utilizando las variables\n",
    "    nombre_archivo = f\"UCA_R{r}_{tamano}_r{suma_vecinos}.png\"\n",
    "    \n",
    "    # Guardar la imagen en la misma carpeta del script con el nombre especificado\n",
    "    plt.savefig(ruta_carpeta + nombre_archivo, dpi=300, bbox_inches='tight', pad_inches=0)\n",
    "    plt.close()"
   ]
  },
  {
   "cell_type": "markdown",
   "id": "3bc40829-7dcd-40d2-b7ed-ab399846afe0",
   "metadata": {},
   "source": [
    "### Implementación y seteo de condiciones:"
   ]
  },
  {
   "cell_type": "code",
   "execution_count": null,
   "id": "fa8d6d0e-2df2-4e19-b2c6-d3d2ddc0bcef",
   "metadata": {},
   "outputs": [],
   "source": [
    "# Parámetros\n",
    "r = 2\n",
    "tamano = 1000\n",
    "generaciones = 1200\n",
    "estado_inicial = inicial_random(tamano) #centrado o random\n",
    "#estado_inicial = [-1, -1, -1, -1, 1, 1, 1, 1, 1, 1]\n",
    "\n",
    "# Ejecución del autómata celular\n",
    "automata = automata_celular(r, tamano, generaciones, estado_inicial)\n",
    "visualizar_automata(automata)\n",
    "#guardar_automata(automata, \"mi_automata.png\", \"0. ACU/\")"
   ]
  },
  {
   "cell_type": "code",
   "execution_count": null,
   "id": "1f9c4729-b653-4399-983f-5ec145b95cc3",
   "metadata": {},
   "outputs": [],
   "source": [
    "automata"
   ]
  },
  {
   "cell_type": "markdown",
   "id": "ebc2dda2-b0b5-46ef-baa8-7819c558c3f4",
   "metadata": {},
   "source": [
    "_____"
   ]
  },
  {
   "cell_type": "markdown",
   "id": "f820f23a-2124-4e50-bf56-0435d84e5e19",
   "metadata": {},
   "source": [
    "_____"
   ]
  },
  {
   "cell_type": "markdown",
   "id": "715687a1-1db7-4f4b-b658-7fad6749cb19",
   "metadata": {},
   "source": [
    "### Aplicación en múltiples estados: "
   ]
  },
  {
   "cell_type": "code",
   "execution_count": null,
   "id": "07b2ed03-062c-40b7-845b-3278d9cee7a1",
   "metadata": {},
   "outputs": [],
   "source": [
    "import numpy as np\n",
    "import itertools\n",
    "import matplotlib.pyplot as plt\n",
    "\n",
    "def todas_las_combinaciones(tamano):\n",
    "    return list(itertools.product([-1, 1], repeat=tamano))"
   ]
  },
  {
   "cell_type": "code",
   "execution_count": 1,
   "id": "47ddc669-5f2e-4c4f-abac-f892ab7ab1e0",
   "metadata": {},
   "outputs": [],
   "source": [
    "import numpy as np\n",
    "import itertools\n",
    "import matplotlib.pyplot as plt\n",
    "\n",
    "def vecinos(estado, i, r):\n",
    "    tamano = len(estado)\n",
    "    estado_ext = np.pad(estado, pad_width=r, mode='wrap')\n",
    "    vecindad = [estado_ext[i + r + j] for j in range(-r, r + 1)]\n",
    "    return vecindad"
   ]
  },
  {
   "cell_type": "code",
   "execution_count": 2,
   "id": "96b62a18-03e0-457d-8f46-e895213d59bf",
   "metadata": {},
   "outputs": [],
   "source": [
    "def regla_totalistica(vecindad):\n",
    "    suma = np.sum(vecindad)\n",
    "    if suma > 0:\n",
    "        return 1\n",
    "    elif suma < 0:\n",
    "        return -1\n",
    "    else:\n",
    "        return vecindad[len(vecindad)//2]"
   ]
  },
  {
   "cell_type": "code",
   "execution_count": 3,
   "id": "dd39c922-83de-41eb-9e23-709259f27c76",
   "metadata": {},
   "outputs": [],
   "source": [
    "def siguiente_generacion(estado, r):\n",
    "    tamano = len(estado)\n",
    "    nueva_generacion = np.zeros(tamano, dtype=int)\n",
    "\n",
    "    for i in range(tamano):\n",
    "        vecindad = vecinos(estado, i, r)\n",
    "        nueva_generacion[i] = regla_totalistica(vecindad)\n",
    "\n",
    "    return nueva_generacion"
   ]
  },
  {
   "cell_type": "code",
   "execution_count": 4,
   "id": "8692fb30-8299-417b-8193-5b3728e607b1",
   "metadata": {},
   "outputs": [],
   "source": [
    "def automata_celular(r, tamano, generaciones, estado_inicial):\n",
    "    automata = np.zeros((generaciones, tamano), dtype=int)\n",
    "    automata[0] = estado_inicial\n",
    "\n",
    "    for t in range(1, generaciones):\n",
    "        automata[t] = siguiente_generacion(automata[t - 1], r)\n",
    "\n",
    "    return automata, automata[-1]"
   ]
  },
  {
   "cell_type": "code",
   "execution_count": 5,
   "id": "9b13b46f-6f05-484d-aa06-73c1b278e650",
   "metadata": {},
   "outputs": [],
   "source": [
    "def guardar_automata(automata, nombre_archivo=\"automata.png\", ruta_carpeta=\"\"):\n",
    "    plt.imshow(automata, cmap='Greys', interpolation='nearest', vmin=-1, vmax=1)\n",
    "    plt.title(f\"Radio: {r}\\nNúmero de Generaciones: {generaciones}\\nTamaño de la grilla: {tamano}\")\n",
    "    plt.xlabel('Tamaño de la grilla')\n",
    "    plt.ylabel('Generaciones')\n",
    "\n",
    "    # Crear el nombre del archivo utilizando las variables\n",
    "    nombre_archivo = f\"UCA_R{r}_s{tamano}_{nombre_archivo}\"\n",
    "\n",
    "    # Guardar la imagen en la misma carpeta del script con el nombre especificado\n",
    "    plt.savefig(ruta_carpeta + nombre_archivo, dpi=300, bbox_inches='tight', pad_inches=0)\n",
    "    plt.close()"
   ]
  },
  {
   "cell_type": "code",
   "execution_count": 6,
   "id": "81053ea4-d1cb-4ec0-8253-a9159c038b65",
   "metadata": {},
   "outputs": [],
   "source": [
    "def magnetizacion(automata):\n",
    "    return np.mean(automata)\n",
    "\n",
    "def magnetizacion_inicial(automata):\n",
    "    return magnetizacion(automata[0])\n",
    "\n",
    "def magnetizacion_final(automata):\n",
    "    return magnetizacion(automata[-1])"
   ]
  },
  {
   "cell_type": "code",
   "execution_count": null,
   "id": "389feb5d-7b56-4067-aa16-700e8576de06",
   "metadata": {},
   "outputs": [],
   "source": [
    "tamano = 5\n",
    "estados = todas_las_combinaciones(tamano)\n",
    "r = 1\n",
    "generaciones = 12\n",
    "\n",
    "for estado in estados:\n",
    "    automata, _ = automata_celular(r, tamano, generaciones, estado)\n",
    "    nombre_archivo = f\"{''.join(map(str, estado))}.png\"\n",
    "    #guardar_automata(automata, nombre_archivo)"
   ]
  },
  {
   "cell_type": "code",
   "execution_count": 7,
   "id": "1422ada3-4440-4e69-aa09-48e1a8929803",
   "metadata": {},
   "outputs": [],
   "source": [
    "estados_finales = [(-1, -1, -1, -1, 1, 1, 1, 1, 1, 1),\n",
    " (-1, -1, -1, 1, -1, 1, 1, 1, 1, 1),\n",
    " (-1, -1, -1, 1, 1, -1, 1, 1, 1, 1),\n",
    " (-1, -1, -1, 1, 1, 1, -1, 1, 1, 1),\n",
    " (-1, -1, -1, 1, 1, 1, 1, -1, 1, 1),\n",
    " (-1, -1, -1, 1, 1, 1, 1, 1, -1, 1),\n",
    " (-1, -1, -1, 1, 1, 1, 1, 1, 1, -1),\n",
    " (-1, -1, -1, 1, 1, 1, 1, 1, 1, 1),\n",
    " (-1, -1, 1, -1, -1, 1, 1, 1, 1, 1),\n",
    " (-1, -1, 1, -1, 1, -1, 1, 1, 1, 1),\n",
    " (-1, -1, 1, -1, 1, 1, 1, 1, -1, 1),\n",
    " (-1, -1, 1, -1, 1, 1, 1, 1, 1, -1),\n",
    " (-1, -1, 1, 1, -1, 1, 1, 1, 1, -1),\n",
    " (-1, -1, 1, 1, 1, -1, 1, 1, 1, -1),\n",
    " (-1, -1, 1, 1, 1, 1, -1, 1, -1, 1),\n",
    " (-1, -1, 1, 1, 1, 1, -1, 1, 1, -1),\n",
    " (-1, -1, 1, 1, 1, 1, 1, -1, -1, 1),\n",
    " (-1, -1, 1, 1, 1, 1, 1, -1, 1, -1),\n",
    " (-1, -1, 1, 1, 1, 1, 1, 1, -1, -1),\n",
    " (-1, -1, 1, 1, 1, 1, 1, 1, 1, -1),\n",
    " (-1, 1, -1, -1, -1, 1, 1, 1, 1, 1),\n",
    " (-1, 1, -1, -1, 1, -1, 1, 1, 1, 1),\n",
    " (-1, 1, -1, -1, 1, 1, 1, 1, -1, 1),\n",
    " (-1, 1, -1, -1, 1, 1, 1, 1, 1, -1),\n",
    " (-1, 1, -1, 1, -1, -1, 1, 1, 1, 1),\n",
    " (-1, 1, -1, 1, -1, 1, 1, 1, 1, -1),\n",
    " (-1, 1, -1, 1, 1, 1, 1, -1, -1, 1),\n",
    " (-1, 1, -1, 1, 1, 1, 1, -1, 1, -1),\n",
    " (-1, 1, -1, 1, 1, 1, 1, 1, -1, -1),\n",
    " (-1, 1, 1, -1, -1, -1, 1, 1, 1, 1),\n",
    " (-1, 1, 1, -1, 1, 1, 1, 1, -1, -1),\n",
    " (-1, 1, 1, 1, -1, -1, -1, 1, 1, 1),\n",
    " (-1, 1, 1, 1, -1, 1, 1, 1, -1, -1),\n",
    " (-1, 1, 1, 1, 1, -1, -1, -1, 1, 1),\n",
    " (-1, 1, 1, 1, 1, -1, -1, 1, -1, 1),\n",
    " (-1, 1, 1, 1, 1, -1, 1, -1, -1, 1),\n",
    " (-1, 1, 1, 1, 1, -1, 1, -1, 1, -1),\n",
    " (-1, 1, 1, 1, 1, -1, 1, 1, -1, -1),\n",
    " (-1, 1, 1, 1, 1, 1, -1, -1, -1, 1),\n",
    " (-1, 1, 1, 1, 1, 1, -1, -1, 1, -1),\n",
    " (-1, 1, 1, 1, 1, 1, -1, 1, -1, -1),\n",
    " (-1, 1, 1, 1, 1, 1, 1, -1, -1, -1),\n",
    " (-1, 1, 1, 1, 1, 1, 1, 1, -1, -1),\n",
    " (1, -1, -1, -1, -1, 1, 1, 1, 1, 1),\n",
    " (1, -1, -1, -1, 1, -1, 1, 1, 1, 1),\n",
    " (1, -1, -1, -1, 1, 1, -1, 1, 1, 1),\n",
    " (1, -1, -1, -1, 1, 1, 1, -1, 1, 1),\n",
    " (1, -1, -1, -1, 1, 1, 1, 1, -1, 1),\n",
    " (1, -1, -1, -1, 1, 1, 1, 1, 1, -1),\n",
    " (1, -1, -1, -1, 1, 1, 1, 1, 1, 1),\n",
    " (1, -1, -1, 1, -1, -1, 1, 1, 1, 1),\n",
    " (1, -1, -1, 1, -1, 1, -1, 1, 1, 1),\n",
    " (1, -1, -1, 1, -1, 1, 1, 1, 1, -1),\n",
    " (1, -1, -1, 1, 1, 1, 1, -1, 1, -1),\n",
    " (1, -1, -1, 1, 1, 1, 1, 1, -1, -1),\n",
    " (1, -1, 1, -1, -1, -1, 1, 1, 1, 1),\n",
    " (1, -1, 1, -1, -1, 1, -1, 1, 1, 1),\n",
    " (1, -1, 1, -1, -1, 1, 1, 1, 1, -1),\n",
    " (1, -1, 1, -1, 1, -1, -1, 1, 1, 1),\n",
    " (1, -1, 1, -1, 1, 1, 1, 1, -1, -1),\n",
    " (1, -1, 1, 1, -1, -1, -1, 1, 1, 1),\n",
    " (1, -1, 1, 1, 1, -1, -1, -1, 1, 1),\n",
    " (1, -1, 1, 1, 1, 1, -1, -1, -1, 1),\n",
    " (1, -1, 1, 1, 1, 1, -1, -1, 1, -1),\n",
    " (1, -1, 1, 1, 1, 1, -1, 1, -1, -1),\n",
    " (1, -1, 1, 1, 1, 1, 1, -1, -1, -1),\n",
    " (1, 1, -1, -1, -1, -1, 1, 1, 1, 1),\n",
    " (1, 1, -1, -1, -1, 1, -1, 1, 1, 1),\n",
    " (1, 1, -1, -1, -1, 1, 1, -1, 1, 1),\n",
    " (1, 1, -1, -1, -1, 1, 1, 1, -1, 1),\n",
    " (1, 1, -1, -1, -1, 1, 1, 1, 1, -1),\n",
    " (1, 1, -1, -1, -1, 1, 1, 1, 1, 1),\n",
    " (1, 1, -1, -1, 1, -1, -1, 1, 1, 1),\n",
    " (1, 1, -1, -1, 1, -1, 1, -1, 1, 1),\n",
    " (1, 1, -1, 1, -1, -1, -1, 1, 1, 1),\n",
    " (1, 1, -1, 1, -1, -1, 1, -1, 1, 1),\n",
    " (1, 1, -1, 1, -1, 1, -1, -1, 1, 1),\n",
    " (1, 1, -1, 1, 1, -1, -1, -1, 1, 1),\n",
    " (1, 1, -1, 1, 1, 1, -1, -1, -1, 1),\n",
    " (1, 1, -1, 1, 1, 1, 1, -1, -1, -1),\n",
    " (1, 1, 1, -1, -1, -1, -1, 1, 1, 1),\n",
    " (1, 1, 1, -1, -1, -1, 1, -1, 1, 1),\n",
    " (1, 1, 1, -1, -1, -1, 1, 1, -1, 1),\n",
    " (1, 1, 1, -1, -1, -1, 1, 1, 1, -1),\n",
    " (1, 1, 1, -1, -1, -1, 1, 1, 1, 1),\n",
    " (1, 1, 1, -1, -1, 1, -1, -1, 1, 1),\n",
    " (1, 1, 1, -1, -1, 1, -1, 1, -1, 1),\n",
    " (1, 1, 1, -1, 1, -1, -1, -1, 1, 1),\n",
    " (1, 1, 1, -1, 1, -1, -1, 1, -1, 1),\n",
    " (1, 1, 1, -1, 1, -1, 1, -1, -1, 1),\n",
    " (1, 1, 1, -1, 1, 1, -1, -1, -1, 1),\n",
    " (1, 1, 1, -1, 1, 1, 1, -1, -1, -1),\n",
    " (1, 1, 1, 1, -1, -1, -1, -1, 1, 1),\n",
    " (1, 1, 1, 1, -1, -1, -1, 1, -1, 1),\n",
    " (1, 1, 1, 1, -1, -1, -1, 1, 1, -1),\n",
    " (1, 1, 1, 1, -1, -1, -1, 1, 1, 1),\n",
    " (1, 1, 1, 1, -1, -1, 1, -1, -1, 1),\n",
    " (1, 1, 1, 1, -1, -1, 1, -1, 1, -1),\n",
    " (1, 1, 1, 1, -1, 1, -1, -1, -1, 1),\n",
    " (1, 1, 1, 1, -1, 1, -1, -1, 1, -1),\n",
    " (1, 1, 1, 1, -1, 1, -1, 1, -1, -1),\n",
    " (1, 1, 1, 1, -1, 1, 1, -1, -1, -1),\n",
    " (1, 1, 1, 1, 1, -1, -1, -1, -1, 1),\n",
    " (1, 1, 1, 1, 1, -1, -1, -1, 1, -1),\n",
    " (1, 1, 1, 1, 1, -1, -1, -1, 1, 1),\n",
    " (1, 1, 1, 1, 1, -1, -1, 1, -1, -1),\n",
    " (1, 1, 1, 1, 1, -1, 1, -1, -1, -1),\n",
    " (1, 1, 1, 1, 1, 1, -1, -1, -1, -1),\n",
    " (1, 1, 1, 1, 1, 1, -1, -1, -1, 1),\n",
    " (1, 1, 1, 1, 1, 1, 1, -1, -1, -1)]"
   ]
  },
  {
   "cell_type": "markdown",
   "id": "b3ca06c7-2094-4aa7-a444-390e6a1e9c04",
   "metadata": {},
   "source": [
    "_______"
   ]
  },
  {
   "cell_type": "code",
   "execution_count": 8,
   "id": "c69a7772-a150-4d68-9924-421da5b32d83",
   "metadata": {},
   "outputs": [
    {
     "data": {
      "image/png": "[encoded data removed]",
      "text/plain": [
       "<Figure size 640x480 with 1 Axes>"
      ]
     },
     "metadata": {},
     "output_type": "display_data"
    }
   ],
   "source": [
    "mag_ini = []\n",
    "mag_fin = []\n",
    "num_mag_neg = 0\n",
    "num_mag_pos = 0\n",
    "num_mag_otro = 0\n",
    "total = 0\n",
    "\n",
    "tamano = 10\n",
    "estados = estados_finales\n",
    "\n",
    "r = 3\n",
    "generaciones = 12\n",
    "\n",
    "for estado in estados:\n",
    "    automata, _ = automata_celular(r, tamano, generaciones, estado)\n",
    "    magnetizacion_ini = magnetizacion(automata[0])\n",
    "    if magnetizacion_ini >= -1 and magnetizacion_ini <= 1:\n",
    "        nombre_archivo = f\"{''.join(map(str, estado))}.png\"\n",
    "        #guardar_automata(automata, nombre_archivo)\n",
    "\n",
    "        magnetizacion_fin = magnetizacion_final(automata)\n",
    "        mag_ini.append(magnetizacion_ini)\n",
    "        mag_fin.append(magnetizacion_fin)\n",
    "\n",
    "        if magnetizacion_fin == -1:\n",
    "            num_mag_neg += 1\n",
    "        elif magnetizacion_fin == 1:\n",
    "            num_mag_pos += 1\n",
    "        else:\n",
    "            num_mag_otro += 1\n",
    "\n",
    "        total += 1\n",
    "        \n",
    "labels = ['-1', '1', 'Otro']\n",
    "frecuencias = [num_mag_neg, num_mag_pos, num_mag_otro]\n",
    "\n",
    "plt.bar(labels, frecuencias)\n",
    "plt.xlabel('Magnetización final')\n",
    "plt.ylabel('Frecuencia')\n",
    "plt.title(f\"Radio: {r}\\nNúmero de Generaciones: {generaciones}\\nTamaño de la grilla: {tamano}\")\n",
    "\n",
    "for i, valor in enumerate(frecuencias):\n",
    "    plt.text(i, valor, str(valor), ha='center', va='bottom', fontsize=11)\n",
    "    plt.text(i, valor+1, f\"({(valor/total)*100:.2f}%)\", ha='center', va='top', fontsize=9)\n",
    "\n",
    "plt.show()"
   ]
  },
  {
   "cell_type": "code",
   "execution_count": null,
   "id": "fa7eb1a7-a373-4e64-9a73-953f937114bf",
   "metadata": {},
   "outputs": [],
   "source": [
    "def histograma_magnetizacion_inicial(estados, r, generaciones, tamano):\n",
    "    mag_ini = []\n",
    "    for estado in estados:\n",
    "        automata, _ = automata_celular(r, tamano, generaciones, estado)\n",
    "        magnetizacion_ini = magnetizacion(automata[0])\n",
    "        mag_ini.append(magnetizacion_ini)\n",
    "\n",
    "    plt.hist(mag_ini, bins=15, range=(-1,1), edgecolor='black')\n",
    "    plt.xlabel('Magnetización inicial')\n",
    "    plt.ylabel('Frecuencia')\n",
    "    plt.title(f\"Radio: {r}\\nNúmero de Generaciones: {generaciones}\\nTamaño de la grilla: {tamano}\")\n",
    "    plt.show()"
   ]
  },
  {
   "cell_type": "code",
   "execution_count": null,
   "id": "2434d4c0-4cfa-48bb-b724-8af59a1ddfa2",
   "metadata": {},
   "outputs": [],
   "source": [
    "histograma_magnetizacion_inicial(estados, r, generaciones, tamano)"
   ]
  },
  {
   "cell_type": "markdown",
   "id": "e6c09929-9c78-45ad-9814-a40bd3f17c7a",
   "metadata": {},
   "source": [
    "_____"
   ]
  },
  {
   "cell_type": "code",
   "execution_count": 10,
   "id": "ab886c78-8f2c-4998-9699-8e98c1f63f3b",
   "metadata": {},
   "outputs": [
    {
     "name": "stdout",
     "output_type": "stream",
     "text": [
      "Estado inicial: (-1, -1, -1, -1, 1, 1, 1, 1, 1, 1) Estado final: [-1 -1 -1 -1  1  1  1  1  1  1]\n",
      "Estado inicial: (-1, -1, -1, 1, 1, 1, 1, 1, 1, -1) Estado final: [-1 -1 -1  1  1  1  1  1  1 -1]\n",
      "Estado inicial: (-1, -1, 1, 1, 1, 1, 1, 1, -1, -1) Estado final: [-1 -1  1  1  1  1  1  1 -1 -1]\n",
      "Estado inicial: (-1, 1, 1, 1, 1, 1, 1, -1, -1, -1) Estado final: [-1  1  1  1  1  1  1 -1 -1 -1]\n",
      "Estado inicial: (1, -1, -1, -1, -1, 1, 1, 1, 1, 1) Estado final: [ 1 -1 -1 -1 -1  1  1  1  1  1]\n",
      "Estado inicial: (1, 1, -1, -1, -1, -1, 1, 1, 1, 1) Estado final: [ 1  1 -1 -1 -1 -1  1  1  1  1]\n",
      "Estado inicial: (1, 1, 1, -1, -1, -1, -1, 1, 1, 1) Estado final: [ 1  1  1 -1 -1 -1 -1  1  1  1]\n",
      "Estado inicial: (1, 1, 1, 1, -1, -1, -1, -1, 1, 1) Estado final: [ 1  1  1  1 -1 -1 -1 -1  1  1]\n",
      "Estado inicial: (1, 1, 1, 1, 1, -1, -1, -1, -1, 1) Estado final: [ 1  1  1  1  1 -1 -1 -1 -1  1]\n",
      "Estado inicial: (1, 1, 1, 1, 1, 1, -1, -1, -1, -1) Estado final: [ 1  1  1  1  1  1 -1 -1 -1 -1]\n"
     ]
    }
   ],
   "source": [
    "tamano = 10\n",
    "estados = estados_finales\n",
    "\n",
    "r = 2\n",
    "generaciones = 12\n",
    "\n",
    "estados_finales = []\n",
    "for estado in estados:\n",
    "    automata, _ = automata_celular(r, tamano, generaciones, estado)\n",
    "    magnetizacion_ini = magnetizacion(automata[0])\n",
    "    if magnetizacion_ini > 0 and magnetizacion_ini <= 0.5:\n",
    "        magnetizacion_fin = magnetizacion_final(automata)\n",
    "        if magnetizacion_fin != 1:\n",
    "            print(\"Estado inicial:\", estado, \"Estado final:\", automata[-1])\n",
    "            estados_finales.append(estado)"
   ]
  },
  {
   "cell_type": "code",
   "execution_count": null,
   "id": "8d2ac2f9-072b-4853-ac39-8816d2f18541",
   "metadata": {},
   "outputs": [],
   "source": [
    "mag_ini = []\n",
    "mag_fin = []\n",
    "num_mag_neg = 0\n",
    "num_mag_pos = 0\n",
    "num_mag_otro = 0\n",
    "total = 0\n",
    "\n",
    "tamano = 10\n",
    "estados = estados_finales\n",
    "\n",
    "r = 2\n",
    "generaciones = 12\n",
    "\n",
    "for estado in estados:\n",
    "    automata, _ = automata_celular(r, tamano, generaciones, estado)\n",
    "    magnetizacion_ini = magnetizacion(automata[0])\n",
    "    if magnetizacion_ini >= -1 and magnetizacion_ini <= 1:\n",
    "        nombre_archivo = f\"{''.join(map(str, estado))}.png\"\n",
    "        #guardar_automata(automata, nombre_archivo)\n",
    "\n",
    "        magnetizacion_fin = magnetizacion_final(automata)\n",
    "        mag_ini.append(magnetizacion_ini)\n",
    "        mag_fin.append(magnetizacion_fin)\n",
    "\n",
    "        if magnetizacion_fin == -1:\n",
    "            num_mag_neg += 1\n",
    "        elif magnetizacion_fin == 1:\n",
    "            num_mag_pos += 1\n",
    "        else:\n",
    "            num_mag_otro += 1\n",
    "\n",
    "        total += 1\n",
    "        \n",
    "labels = ['-1', '1', 'Otro']\n",
    "frecuencias = [num_mag_neg, num_mag_pos, num_mag_otro]\n",
    "\n",
    "plt.bar(labels, frecuencias)\n",
    "plt.xlabel('Magnetización final')\n",
    "plt.ylabel('Frecuencia')\n",
    "plt.title(f\"Radio: {r}\\nNúmero de Generaciones: {generaciones}\\nTamaño de la grilla: {tamano}\")\n",
    "\n",
    "for i, valor in enumerate(frecuencias):\n",
    "    plt.text(i, valor, str(valor), ha='center', va='bottom', fontsize=11)\n",
    "    plt.text(i, valor+1, f\"({(valor/total)*100:.2f}%)\", ha='center', va='top', fontsize=9)\n",
    "\n",
    "plt.show()"
   ]
  },
  {
   "cell_type": "code",
   "execution_count": null,
   "id": "af9aa73d-2f38-458b-8d90-bdc7ab344631",
   "metadata": {},
   "outputs": [],
   "source": [
    "def encontrar_estado_inicial(estado_final, r, tamano, generaciones):\n",
    "    estados_iniciales = todas_las_combinaciones(tamano)\n",
    "    for estado_inicial in estados_iniciales:\n",
    "        automata, _ = automata_celular(r, tamano, generaciones, estado_inicial)\n",
    "        if np.array_equal(automata[-1], estado_final):\n",
    "            return estado_inicial\n",
    "    return None"
   ]
  },
  {
   "cell_type": "code",
   "execution_count": null,
   "id": "e3f71be8-4d93-4650-83a5-58c3be7d8a9e",
   "metadata": {},
   "outputs": [],
   "source": [
    "encontrar_estado_inicial(estado_final, r, tamano, generaciones)"
   ]
  },
  {
   "cell_type": "markdown",
   "id": "af19fde0-ff49-4fb9-8ab9-8467aa2b330a",
   "metadata": {},
   "source": [
    "____"
   ]
  },
  {
   "cell_type": "code",
   "execution_count": null,
   "id": "33c94e4d-b14b-4716-b713-966050fbd8c5",
   "metadata": {},
   "outputs": [],
   "source": [
    "import numpy as np\n",
    "import matplotlib.pyplot as plt\n",
    "\n",
    "def vecinos(estado, i, r, lado):\n",
    "    tamano = len(estado)\n",
    "    estado_ext = np.pad(estado, pad_width=r, mode='wrap')\n",
    "    if lado == 'derecha':\n",
    "        vecindad = [estado_ext[i + r + j] for j in range(1, r + 1)]\n",
    "    elif lado == 'izquierda':\n",
    "        vecindad = [estado_ext[i + r - j] for j in range(r, 0, -1)]\n",
    "    else:\n",
    "        vecindad = [estado_ext[i + r + j] for j in range(-r, r + 1)]\n",
    "    return vecindad\n",
    "\n",
    "def vecindades_estado(estado, r, lado='izquierda'):\n",
    "    vecindades = []\n",
    "    for i in range(len(estado)):\n",
    "        vecindad = vecinos(estado, i, r, lado)\n",
    "        vecindades.append(vecindad)\n",
    "    return vecindades\n",
    "\n",
    "def regla_totalistica(vecindad, lado='izquierda'):\n",
    "    suma = np.sum(vecindad)\n",
    "    if suma > 0:\n",
    "        return 1\n",
    "    elif suma < 0:\n",
    "        return -1\n",
    "    else:\n",
    "        if lado == 'izquierda':\n",
    "            if len(vecindad) > 2:\n",
    "                return vecindad[2]\n",
    "            else:\n",
    "                return vecindad[len(vecindad)//2]\n",
    "        elif lado == 'derecha':\n",
    "            if len(vecindad) > 0:\n",
    "                return vecindad[0]\n",
    "            else:\n",
    "                return vecindad[len(vecindad)//2]\n",
    "        \n",
    "def siguiente_generacion(estado, r, lado='izquierda'):\n",
    "    tamano = len(estado)\n",
    "    nueva_generacion = np.zeros(tamano, dtype=int)\n",
    "\n",
    "    for i in range(tamano):\n",
    "        vecindad = vecinos(estado, i, r, lado=lado)\n",
    "        nueva_generacion[i] = regla_totalistica(vecindad, lado=lado)\n",
    "\n",
    "    return nueva_generacion\n",
    "\n",
    "def automata_celular(r, tamano, generaciones, estado_inicial, lado='izquierda'):\n",
    "    automata = np.zeros((generaciones, tamano), dtype=int)\n",
    "    automata[0] = estado_inicial\n",
    "\n",
    "    for t in range(1, generaciones):\n",
    "        automata[t] = siguiente_generacion(automata[t - 1], r, lado=lado)\n",
    "\n",
    "    return automata\n",
    "\n",
    "def visualizar_automata(automata):\n",
    "    plt.imshow(automata, cmap='Greys', interpolation='nearest')\n",
    "    plt.xlabel('Tamaño de la grilla')\n",
    "    plt.ylabel('Generaciones')\n",
    "    plt.show()\n",
    "    \n",
    "# Parámetros\n",
    "lado = 'centro'\n",
    "r = 3\n",
    "tamano = 10\n",
    "generaciones = 12\n",
    "estado_inicial = [1,  1,  1, -1, -1, -1,  1,  1,  1,  1]\n",
    "\n",
    "# Ejecución del autómata celular\n",
    "automata = automata_celular(r, tamano, generaciones, estado_inicial, lado=lado)\n",
    "visualizar_automata(automata)"
   ]
  },
  {
   "cell_type": "code",
   "execution_count": null,
   "id": "bd88d5d2-fa21-4366-a8fa-825e2bd6e51d",
   "metadata": {},
   "outputs": [],
   "source": [
    "automata2 = automata\n",
    "automata2"
   ]
  },
  {
   "cell_type": "code",
   "execution_count": null,
   "id": "10732cdf-226b-4371-ab3d-3ac27f8e4a35",
   "metadata": {},
   "outputs": [],
   "source": [
    "import numpy as np\n",
    "import matplotlib.pyplot as plt\n",
    "\n",
    "def vecinos(estado, i, r, lado):\n",
    "    tamano = len(estado)\n",
    "    estado_ext = np.pad(estado, pad_width=r, mode='wrap')\n",
    "    if lado == 'derecha':\n",
    "        vecindad = [estado_ext[i + r + j] for j in range(1, r + 1)]\n",
    "    elif lado == 'izquierda':\n",
    "        vecindad = [estado_ext[i + r - j] for j in range(r, 0, -1)]\n",
    "    else:\n",
    "        vecindad = [estado_ext[i + r + j] for j in range(-r, r + 1)]\n",
    "    return vecindad\n",
    "\n",
    "def vecindades_estado(estado, r, lado='izquierda'):\n",
    "    vecindades = []\n",
    "    for i in range(len(estado)):\n",
    "        vecindad = vecinos(estado, i, r, lado)\n",
    "        vecindades.append(vecindad)\n",
    "    return vecindades\n",
    "\n",
    "def regla_totalistica(vecindad, lado='izquierda'):\n",
    "    suma = np.sum(vecindad)\n",
    "    if suma > 0:\n",
    "        return 1\n",
    "    elif suma < 0:\n",
    "        return -1\n",
    "    else:\n",
    "        if lado == 'izquierda':\n",
    "            if len(vecindad) > 2:\n",
    "                return vecindad[2]\n",
    "            else:\n",
    "                return vecindad[len(vecindad)//2]\n",
    "        elif lado == 'derecha':\n",
    "            if len(vecindad) > 0:\n",
    "                return vecindad[0]\n",
    "            else:\n",
    "                return vecindad[len(vecindad)//2]\n",
    "        \n",
    "def siguiente_generacion(estado, r, lado='izquierda'):\n",
    "    tamano = len(estado)\n",
    "    nueva_generacion = np.zeros(tamano, dtype=int)\n",
    "\n",
    "    for i in range(tamano):\n",
    "        vecindad = vecinos(estado, i, r, lado=lado)\n",
    "        nueva_generacion[i] = regla_totalistica(vecindad, lado=lado)\n",
    "        \n",
    "        # Actualización secuencial de izquierda a derecha\n",
    "        estado[i] = nueva_generacion[i]\n",
    "\n",
    "    return nueva_generacion\n",
    "\n",
    "def automata_celular(r, tamano, generaciones, estado_inicial, lado='izquierda'):\n",
    "    automata = np.zeros((generaciones, tamano), dtype=int)\n",
    "    automata[0] = estado_inicial\n",
    "\n",
    "    for t in range(1, generaciones):\n",
    "        automata[t] = siguiente_generacion(np.copy(automata[t - 1]), r, lado=lado)\n",
    "\n",
    "    return automata\n",
    "\n",
    "def visualizar_automata(automata):\n",
    "    plt.imshow(automata, cmap='Greys', interpolation='nearest')\n",
    "    plt.xlabel('Tamaño de la grilla')\n",
    "    plt.ylabel('Generaciones')\n",
    "    plt.show()\n",
    "    \n",
    "# Parámetros\n",
    "lado = 'centro'\n",
    "r = 1\n",
    "tamano = 5\n",
    "generaciones = 12\n",
    "estado_inicial = [1,  1,  1, -1, -1,]\n",
    "\n",
    "# Ejecución del autómata celular\n",
    "automata = automata_celular(r, tamano, generaciones, estado_inicial, lado=lado)\n",
    "visualizar_automata(automata)"
   ]
  },
  {
   "cell_type": "code",
   "execution_count": null,
   "id": "44b1a97d-dbb8-49b2-b1d8-d4ad6a764bec",
   "metadata": {},
   "outputs": [],
   "source": [
    "automata"
   ]
  },
  {
   "cell_type": "code",
   "execution_count": null,
   "id": "38752789-cb82-4d6d-ae19-f11112f93ef6",
   "metadata": {},
   "outputs": [],
   "source": [
    "import numpy as np\n",
    "import matplotlib.pyplot as plt\n",
    "\n",
    "def vecinos(estado, i, r, lado):\n",
    "    tamano = len(estado)\n",
    "    estado_ext = np.pad(estado, pad_width=r, mode='wrap')\n",
    "    if lado == 'derecha':\n",
    "        vecindad = [estado_ext[i + r + j] for j in range(1, r + 1)]\n",
    "    elif lado == 'izquierda':\n",
    "        vecindad = [estado_ext[i + r - j] for j in range(r, 0, -1)]\n",
    "    else:\n",
    "        vecindad = [estado_ext[i + r + j] for j in range(-r, r + 1)]\n",
    "    return vecindad\n",
    "\n",
    "def vecindades_estado(estado, r, lado='izquierda'):\n",
    "    vecindades = []\n",
    "    for i in range(len(estado)):\n",
    "        vecindad = vecinos(estado, i, r, lado)\n",
    "        vecindades.append(vecindad)\n",
    "    return vecindades\n",
    "\n",
    "def regla_totalistica(vecindad, lado='izquierda'):\n",
    "    suma = np.sum(vecindad)\n",
    "    if suma > 0:\n",
    "        return 1\n",
    "    elif suma < 0:\n",
    "        return -1\n",
    "    else:\n",
    "        if lado == 'izquierda':\n",
    "            if len(vecindad) > 2:\n",
    "                return vecindad[2]\n",
    "            else:\n",
    "                return vecindad[len(vecindad)//2]\n",
    "        elif lado == 'derecha':\n",
    "            if len(vecindad) > 0:\n",
    "                return vecindad[0]\n",
    "            else:\n",
    "                return vecindad[len(vecindad)//2]\n",
    "        \n",
    "def siguiente_generacion(estado, r, lado='izquierda'):\n",
    "    tamano = len(estado)\n",
    "    nueva_generacion = np.zeros(tamano, dtype=int)\n",
    "\n",
    "    for i in range(tamano-1,-1,-1):\n",
    "        vecindad = vecinos(estado, i, r, lado=lado)\n",
    "        nueva_generacion[i] = regla_totalistica(vecindad, lado=lado)\n",
    "        \n",
    "        # Actualización secuencial de derecha a izquierda\n",
    "        estado[i] = nueva_generacion[i]\n",
    "\n",
    "    return nueva_generacion\n",
    "\n",
    "def automata_celular(r, tamano, generaciones, estado_inicial, lado='izquierda'):\n",
    "    automata = np.zeros((generaciones, tamano), dtype=int)\n",
    "    automata[0] = estado_inicial\n",
    "\n",
    "    for t in range(1, generaciones):\n",
    "        automata[t] = siguiente_generacion(np.copy(automata[t - 1]), r, lado=lado)\n",
    "\n",
    "    return automata\n",
    "\n",
    "def visualizar_automata(automata):\n",
    "    plt.imshow(automata, cmap='Greys', interpolation='nearest')\n",
    "    plt.xlabel('Tamaño de la grilla')\n",
    "    plt.ylabel('Generaciones')\n",
    "    plt.show()\n",
    "    \n",
    "# Parámetros\n",
    "lado = 'izquierda'\n",
    "r = 2\n",
    "tamano = 10\n",
    "generaciones = 12\n",
    "estado_inicial = [-1, 1, 1, 1, 1, 1, 1, 1, -1, -1 ]\n",
    "\n",
    "# Ejecución del autómata celular\n",
    "automata = automata_celular(r, tamano, generaciones, estado_inicial, lado=lado)\n",
    "visualizar_automata(automata)"
   ]
  },
  {
   "cell_type": "code",
   "execution_count": null,
   "id": "3701f98d-4583-4255-8559-5b065f3840d5",
   "metadata": {},
   "outputs": [],
   "source": [
    "mag_ini = []\n",
    "mag_fin = []\n",
    "num_mag_neg = 0\n",
    "num_mag_pos = 0\n",
    "num_mag_otro = 0\n",
    "total = 0\n",
    "\n",
    "tamano = 10\n",
    "estados = estados_finales\n",
    "\n",
    "r = 4\n",
    "generaciones = 12\n",
    "\n",
    "for estado in estados:\n",
    "    automata = automata_celular(r, tamano, generaciones, estados, lado='izquierda')\n",
    "    magnetizacion_ini = magnetizacion(automata[0])\n",
    "    if magnetizacion_ini >= -1 and magnetizacion_ini <= 1:\n",
    "\n",
    "        magnetizacion_fin = magnetizacion_final(automata)\n",
    "        mag_ini.append(magnetizacion_ini)\n",
    "        mag_fin.append(magnetizacion_fin)\n",
    "\n",
    "        if magnetizacion_fin == -1:\n",
    "            num_mag_neg += 1\n",
    "        elif magnetizacion_fin == 1:\n",
    "            num_mag_pos += 1\n",
    "        else:\n",
    "            num_mag_otro += 1\n",
    "\n",
    "        total += 1\n",
    "        \n",
    "labels = ['-1', '1', 'Otro']\n",
    "frecuencias = [num_mag_neg, num_mag_pos, num_mag_otro]\n",
    "\n",
    "plt.bar(labels, frecuencias)\n",
    "plt.xlabel('Magnetización final')\n",
    "plt.ylabel('Frecuencia')\n",
    "plt.title(f\"Radio: {r}\\nNúmero de Generaciones: {generaciones}\\nTamaño de la grilla: {tamano}\")\n",
    "\n",
    "for i, valor in enumerate(frecuencias):\n",
    "    plt.text(i, valor, str(valor), ha='center', va='bottom', fontsize=11)\n",
    "    plt.text(i, valor+1, f\"({(valor/total)*100:.2f}%)\", ha='center', va='top', fontsize=9)\n",
    "\n",
    "plt.show()"
   ]
  },
  {
   "cell_type": "code",
   "execution_count": null,
   "id": "d6b71cc9-d3e1-4f97-835e-d8d4915be16b",
   "metadata": {},
   "outputs": [],
   "source": []
  },
  {
   "cell_type": "code",
   "execution_count": null,
   "id": "85f85930-39b0-450f-b7bc-551843f82662",
   "metadata": {},
   "outputs": [],
   "source": []
  },
  {
   "cell_type": "code",
   "execution_count": null,
   "id": "88d9f008-8870-49c8-a67f-e2224aa4f39d",
   "metadata": {},
   "outputs": [],
   "source": []
  },
  {
   "cell_type": "markdown",
   "id": "e3609a66-be65-4df8-bb5a-0fddd2799c04",
   "metadata": {},
   "source": [
    "______"
   ]
  },
  {
   "cell_type": "markdown",
   "id": "90778c61-5494-4bdb-8c7e-f6efa891b056",
   "metadata": {},
   "source": [
    "______"
   ]
  },
  {
   "cell_type": "markdown",
   "id": "4333a8cc-797b-450f-95fd-e82b291d3ecf",
   "metadata": {
    "tags": []
   },
   "source": [
    "#### Otros (no tocar):"
   ]
  },
  {
   "cell_type": "markdown",
   "id": "a54f2b8a-3208-474e-91e6-048fa21c0c84",
   "metadata": {},
   "source": [
    "_____"
   ]
  },
  {
   "cell_type": "code",
   "execution_count": null,
   "id": "a7f7e3a6-96d5-466b-8863-a1c414277dbd",
   "metadata": {},
   "outputs": [],
   "source": [
    "def automata_celular(r, tamano, generaciones, estado_inicial, suma_vecinos):\n",
    "    automata = np.zeros((generaciones, tamano), dtype=int)\n",
    "    automata[0] = estado_inicial\n",
    "\n",
    "    for t in range(1, generaciones):\n",
    "        automata[t] = siguiente_generacion(automata[t - 1], r, suma_vecinos)\n",
    "    \n",
    "    return automata"
   ]
  },
  {
   "cell_type": "code",
   "execution_count": null,
   "id": "182ed545-c9cf-4caa-8e53-a7d98c8837d3",
   "metadata": {},
   "outputs": [],
   "source": [
    "def guardar_automata(automata, r, generaciones, tamano, ruta_carpeta, nombre_archivo):\n",
    "    plt.imshow(automata, cmap='Greys', interpolation='nearest')\n",
    "    plt.title(f\"Radio: {r}\\n Generaciones: {generaciones}\\n Tamaño: {tamano}\\n Regla:{suma_vecinos}\")\n",
    "    plt.xlabel('Tamaño de la grilla')\n",
    "    plt.ylabel('Generaciones')\n",
    "    plt.savefig(f\"{ruta_carpeta}/{nombre_archivo}.png\", dpi=300)\n",
    "    plt.close()"
   ]
  },
  {
   "cell_type": "code",
   "execution_count": null,
   "id": "dbce3488-1453-4c21-adf0-e8be60293dbb",
   "metadata": {},
   "outputs": [],
   "source": [
    "def simular_todas_combinaciones(r, tamano, generaciones, suma_vecinos, ruta_carpeta):\n",
    "    estados = [list(map(int, list(format(i, f\"0{tamano}b\")))) for i in range(2 ** tamano)]\n",
    "\n",
    "    for pos in range(len(estados)):\n",
    "        estado_inicial = np.array(estados[pos]).copy()\n",
    "        automata = automata_celular(r, tamano, generaciones, estado_inicial, suma_vecinos)\n",
    "        nombre_archivo = f\"automata_r{r}_estado{pos}.png\"\n",
    "        guardar_automata(automata, r, generaciones, tamano, ruta_carpeta, nombre_archivo)"
   ]
  },
  {
   "cell_type": "code",
   "execution_count": null,
   "id": "fea48d27-4f2b-4fef-b5b5-2638bf2f6423",
   "metadata": {},
   "outputs": [],
   "source": [
    "def ejecutar_y_guardar_automatas(r, tamano, generaciones, ruta_carpeta, suma_vecinos):\n",
    "    estados_iniciales = simular_todas_combinaciones(r, tamano, generaciones, suma_vecinos, ruta_carpeta)\n",
    "\n",
    "    for idx, estado_inicial in enumerate(estados_iniciales):\n",
    "        automata = automata_celular(r, tamano, generaciones, estado_inicial, suma_vecinos)\n",
    "        guardar_automata(automata, r, generaciones, tamano, ruta_carpeta, f\"UCA_R{r}_r{suma_vecinos}_{idx}\")"
   ]
  },
  {
   "cell_type": "code",
   "execution_count": null,
   "id": "8e2e2ad9-0d61-49e3-b6b9-7db470345650",
   "metadata": {},
   "outputs": [],
   "source": [
    "r = 1\n",
    "tamano = 4\n",
    "generaciones = 10\n",
    "suma_vecinos = [2]\n",
    "ruta_carpeta = \"0. ACU/0. ACU_combinatoria\"\n",
    "\n",
    "ejecutar_y_guardar_automatas(r, tamano, generaciones, ruta_carpeta, suma_vecinos)"
   ]
  },
  {
   "cell_type": "markdown",
   "id": "2271ac6e-b43a-45c0-870f-112feb9745e9",
   "metadata": {},
   "source": [
    "_____"
   ]
  },
  {
   "cell_type": "markdown",
   "id": "4993911b-69f7-4adf-b079-a611a58a61b2",
   "metadata": {},
   "source": [
    "### Métricas:"
   ]
  },
  {
   "cell_type": "markdown",
   "id": "1ff88c38-ceaf-4060-943d-89f1c3ac37a4",
   "metadata": {
    "jp-MarkdownHeadingCollapsed": true,
    "tags": []
   },
   "source": [
    "#### Entropía:"
   ]
  },
  {
   "cell_type": "code",
   "execution_count": null,
   "id": "62941172-b2b0-40b8-bf71-10c47175d6ef",
   "metadata": {},
   "outputs": [],
   "source": [
    "from scipy.stats import entropy\n",
    "def calcular_entropia(automata):\n",
    "    entropias = []\n",
    "    for fila in automata:\n",
    "        # Contamos la cantidad de 1 y 0 en cada fila\n",
    "        unique, counts = np.unique(fila, return_counts=True)\n",
    "        frecuencias = dict(zip(unique, counts))\n",
    "        # Calculamos la probabilidad de 0 y 1 en cada fila\n",
    "        probs = [frecuencias.get(i, 0) / len(fila) for i in [0, 1]]\n",
    "        entropias.append(entropy(probs, base=2))\n",
    "    return np.array(entropias)"
   ]
  },
  {
   "cell_type": "code",
   "execution_count": null,
   "id": "65660c71-606a-4776-8823-7a968b4d3178",
   "metadata": {},
   "outputs": [],
   "source": [
    "def graficar_entropia(entropias):\n",
    "    plt.plot(entropias)\n",
    "    plt.xlabel('Generación')\n",
    "    plt.ylabel('Entropía')\n",
    "    plt.title('Entropía por generación')\n",
    "    plt.show()"
   ]
  },
  {
   "cell_type": "code",
   "execution_count": null,
   "id": "f2cf5e42-a1e9-414d-a68c-957b64de80cc",
   "metadata": {},
   "outputs": [],
   "source": [
    "# Cálculo y gráfico de la entropía en f de las generaciones:\n",
    "entropias = calcular_entropia(automata)\n",
    "graficar_entropia(entropias)"
   ]
  },
  {
   "cell_type": "markdown",
   "id": "7bf60a3b-e498-47c9-86d4-939d903b7320",
   "metadata": {},
   "source": [
    "#### Magnetización:"
   ]
  },
  {
   "cell_type": "code",
   "execution_count": null,
   "id": "d0e1e22d-5c15-449c-afbc-5ef0b61d0f52",
   "metadata": {},
   "outputs": [],
   "source": [
    "def magnetizacion(automata):\n",
    "    return np.mean(automata)"
   ]
  },
  {
   "cell_type": "code",
   "execution_count": null,
   "id": "4dd1f0bd-2c2f-445e-9a5e-f45ad916602c",
   "metadata": {},
   "outputs": [],
   "source": [
    "def graficar_magnetizacion(automata):\n",
    "    magnetizaciones = [magnetizacion(generacion) for generacion in automata]\n",
    "    fig, ax = plt.subplots(figsize=(7, 4))\n",
    "    ax.plot(magnetizaciones, color='#1f77b4', linewidth=1.8, label='Magnetización ACU')\n",
    "    ax.set_xlabel('Generación', fontsize=11)\n",
    "    ax.set_ylabel('Magnetización', fontsize=11)\n",
    "    ax.tick_params(axis='both', labelsize=11)\n",
    "    ax.legend(fontsize=10)\n",
    "    plt.grid(True)\n",
    "    plt.show()"
   ]
  },
  {
   "cell_type": "code",
   "execution_count": null,
   "id": "c0d30b87-c66e-4415-bf5f-e95d01ded4b2",
   "metadata": {},
   "outputs": [],
   "source": [
    "# Cálculo y gráfico de la densidad de 1:\n",
    "magnetizacion(automata)\n",
    "graficar_magnetizacion(automata)"
   ]
  },
  {
   "cell_type": "markdown",
   "id": "a183043f-f860-4f4d-be71-5ed474f87b0e",
   "metadata": {},
   "source": [
    "_______"
   ]
  },
  {
   "cell_type": "markdown",
   "id": "af3825eb-6ac5-448e-8a19-88b7499cfeed",
   "metadata": {},
   "source": [
    "___"
   ]
  },
  {
   "cell_type": "markdown",
   "id": "d59388ef-c7de-4209-adaf-9a6190598904",
   "metadata": {},
   "source": [
    "___"
   ]
  },
  {
   "cell_type": "markdown",
   "id": "2a1577ec-a91f-4634-8901-40d540b0eab8",
   "metadata": {},
   "source": [
    "____"
   ]
  },
  {
   "cell_type": "markdown",
   "id": "2fdbbef8-ca1c-4dd1-998b-0fe18ff11f74",
   "metadata": {},
   "source": [
    "____"
   ]
  },
  {
   "cell_type": "markdown",
   "id": "81a6a472-0f87-46f3-8d2f-71420b4b6345",
   "metadata": {},
   "source": [
    "_____"
   ]
  },
  {
   "cell_type": "markdown",
   "id": "8f03eebe-59a3-4fa2-81bd-b955b74c2e6f",
   "metadata": {
    "tags": []
   },
   "source": [
    "## Automata Celular Bidimensional:"
   ]
  },
  {
   "cell_type": "markdown",
   "id": "aaf63fa6-0e71-4f00-9345-ba8eb1d52e12",
   "metadata": {},
   "source": [
    "### Estados Iniciales: [-1, 1]"
   ]
  },
  {
   "cell_type": "code",
   "execution_count": null,
   "id": "010e0788-5080-4160-991c-267244945399",
   "metadata": {},
   "outputs": [],
   "source": [
    "import numpy as np\n",
    "import matplotlib.pyplot as plt\n",
    "import imageio\n",
    "import os\n",
    "\n",
    "def inicial_random(tamano):\n",
    "    np.random.seed(218)\n",
    "    estado_inicial_r = np.random.choice([-1, 1], size=(tamano, tamano), p=[0.4, 0.6])\n",
    "    return estado_inicial_r"
   ]
  },
  {
   "cell_type": "code",
   "execution_count": null,
   "id": "07daf933-9c68-4247-bf0e-5ee9fac4572c",
   "metadata": {},
   "outputs": [],
   "source": [
    "# con esta función determinamos un estado inicial seteado al centro.\n",
    "def inicial_centrado(tamano):\n",
    "    estado_inicial_s = [-1] * tamano\n",
    "    estado_inicial_s[tamano // 2] = 1\n",
    "    return estado_inicial_s"
   ]
  },
  {
   "cell_type": "markdown",
   "id": "eddc4aae-4a9b-406e-863d-9a17035e2cbb",
   "metadata": {},
   "source": [
    "### Definición vecinos:"
   ]
  },
  {
   "cell_type": "code",
   "execution_count": null,
   "id": "b774044a-936d-4d47-a1f3-fa996023f47e",
   "metadata": {},
   "outputs": [],
   "source": [
    "def vecinos(estado, i, j):\n",
    "    tamano = estado.shape[0]\n",
    "    vecindad = []\n",
    "    for di, dj in [(-1, 0), (1, 0), (0, -1), (0, 1)]:\n",
    "        ni = (i + di) % tamano\n",
    "        nj = (j + dj) % tamano\n",
    "        vecindad.append(estado[ni, nj])\n",
    "    return np.array(vecindad)"
   ]
  },
  {
   "cell_type": "markdown",
   "id": "8450bb87-f814-4585-8db0-ed1c42265a05",
   "metadata": {},
   "source": [
    "### Definición Reglas:"
   ]
  },
  {
   "cell_type": "code",
   "execution_count": null,
   "id": "b707a0fb-5c98-4e7a-a91e-d22a920b96c5",
   "metadata": {},
   "outputs": [],
   "source": [
    "def regla_totalistica(vecindad):\n",
    "    suma = np.sum(vecindad)\n",
    "    if suma > 0:\n",
    "        return 1\n",
    "    elif suma < 0:\n",
    "        return -1\n",
    "    else:\n",
    "        return vecindad[len(vecindad) // 2]"
   ]
  },
  {
   "cell_type": "markdown",
   "id": "415331f0-af73-4765-aa96-8b0ce2e12807",
   "metadata": {},
   "source": [
    "### Cálculo siguiente generación:"
   ]
  },
  {
   "cell_type": "code",
   "execution_count": null,
   "id": "1b2feff5-5e57-4ffa-8c34-5de6fd3aa2d1",
   "metadata": {},
   "outputs": [],
   "source": [
    "def siguiente_generacion(estado):\n",
    "    tamano = estado.shape[0]\n",
    "    nueva_generacion = np.zeros_like(estado)\n",
    "\n",
    "    for i in range(tamano):\n",
    "        for j in range(tamano):\n",
    "            vecindad = vecinos(estado, i, j)\n",
    "            nueva_generacion[i, j] = regla_totalistica(vecindad)\n",
    "\n",
    "    return nueva_generacion"
   ]
  },
  {
   "cell_type": "code",
   "execution_count": null,
   "id": "021cd466-46c9-455b-8efe-aa0cab659e46",
   "metadata": {},
   "outputs": [],
   "source": [
    "def automata_celular(tamano, generaciones, estado_inicial):\n",
    "    automata = np.zeros((generaciones, tamano, tamano), dtype=int)\n",
    "    automata[0] = estado_inicial\n",
    "\n",
    "    for t in range(1, generaciones):\n",
    "        automata[t] = siguiente_generacion(automata[t - 1])\n",
    "    \n",
    "    return automata"
   ]
  },
  {
   "cell_type": "code",
   "execution_count": null,
   "id": "782c4494-00d3-464d-be2b-66845fc09f90",
   "metadata": {},
   "outputs": [],
   "source": [
    "def visualizar_automata(automata, generaciones, tamano):\n",
    "    fig, axs = plt.subplots(1, generaciones, figsize=(15, 15))\n",
    "\n",
    "    for t in range(generaciones):\n",
    "        axs[t].imshow(automata[t], cmap='Greys', interpolation='nearest', vmin=-1, vmax=1)\n",
    "        axs[t].set_xlabel('X')\n",
    "        axs[t].set_ylabel('Y')\n",
    "        axs[t].set_title(f'Generación {t} \\nTamaño: {tamano}')\n",
    "        axs[t].set_xticks([])\n",
    "        axs[t].set_yticks([])\n",
    "\n",
    "    plt.show()"
   ]
  },
  {
   "cell_type": "markdown",
   "id": "f0106f1c-9c9e-45ad-b4b8-86f06c388520",
   "metadata": {},
   "source": [
    "### Implementación y seteo de condiciones:"
   ]
  },
  {
   "cell_type": "code",
   "execution_count": null,
   "id": "c71f0b5c-168b-4d92-930d-514db83419ef",
   "metadata": {},
   "outputs": [],
   "source": [
    "# Ejemplo de uso\n",
    "tamano = 4\n",
    "generaciones = 7\n",
    "estado_inicial = inicial_random(tamano)\n",
    "\n",
    "# Ejecución del autómata celular\n",
    "automata = automata_celular(tamano, generaciones, estado_inicial)\n",
    "\n",
    "## Generación visualización condicionada a cantidad de generaciones.\n",
    "visualizar_automata(automata, generaciones, tamano) "
   ]
  },
  {
   "cell_type": "code",
   "execution_count": null,
   "id": "fc6bfb5b-d671-4327-be7d-f815ea3e83f3",
   "metadata": {},
   "outputs": [],
   "source": [
    "automata"
   ]
  },
  {
   "cell_type": "markdown",
   "id": "0e47026d-70f5-40ed-a351-b09629f495a5",
   "metadata": {},
   "source": [
    "### Creación de video (Gif):"
   ]
  },
  {
   "cell_type": "code",
   "execution_count": null,
   "id": "251b92fb-f38b-416f-a557-2edd8a2d5175",
   "metadata": {},
   "outputs": [],
   "source": [
    "def crear_gif(automata, r, tamano, generaciones):\n",
    "    nombre_archivo = f\"BCA_r{r}_s{tamano}_gen{generaciones}.gif\"\n",
    "\n",
    "    imagenes = []\n",
    "    for idx, matriz in enumerate(automata):\n",
    "        imagen = plt.imshow(matriz, cmap='Greys', interpolation='nearest', vmin=-1, vmax=1)\n",
    "        titulo = f\"Generación {idx} \\nRadio {r} \\nTamaño Grilla {tamano}\"\n",
    "        plt.title(titulo)\n",
    "        plt.axis('on')\n",
    "        filename = \"temp.png\"\n",
    "        plt.savefig(filename)\n",
    "        plt.close()\n",
    "\n",
    "        image = imageio.v2.imread(filename)\n",
    "        os.remove(filename)\n",
    "        imagenes.append(image)\n",
    "\n",
    "    imageio.mimsave(nombre_archivo, imagenes, fps=10) #con fps regulo la tasa de imagenes por segundo"
   ]
  },
  {
   "cell_type": "code",
   "execution_count": null,
   "id": "eacb623a-13aa-4c97-916d-83d9f2e83617",
   "metadata": {},
   "outputs": [],
   "source": [
    "crear_gif(automata, r, tamano, generaciones)"
   ]
  },
  {
   "cell_type": "markdown",
   "id": "b13542c4-7546-4d75-bbe4-918389744301",
   "metadata": {},
   "source": [
    "### Métricas:"
   ]
  },
  {
   "cell_type": "markdown",
   "id": "f8a236e4-eea5-4f8e-9ec5-1fb439c09bdb",
   "metadata": {},
   "source": [
    "#### Magnetización:"
   ]
  },
  {
   "cell_type": "code",
   "execution_count": null,
   "id": "665df71d-78d1-475f-9bf0-16b42208b57c",
   "metadata": {},
   "outputs": [],
   "source": [
    "def magnetizacion(automata):\n",
    "    return np.mean(automata)"
   ]
  },
  {
   "cell_type": "code",
   "execution_count": null,
   "id": "92993eb6-e4ee-417a-9741-67941e81043a",
   "metadata": {},
   "outputs": [],
   "source": [
    "def graficar_magnetizacion(automata):\n",
    "    magnetizaciones = [magnetizacion(generacion) for generacion in automata]\n",
    "    fig, ax = plt.subplots(figsize=(7, 4))\n",
    "    ax.plot(magnetizaciones, color='#1f77b4', linewidth=1.8, label='Magnetización ACB')\n",
    "    ax.set_xlabel('Generación', fontsize=11)\n",
    "    ax.set_ylabel('Magnetización', fontsize=11)\n",
    "    ax.tick_params(axis='both', labelsize=11)\n",
    "    ax.legend(fontsize=10)\n",
    "    plt.grid(True)\n",
    "    plt.show()"
   ]
  },
  {
   "cell_type": "code",
   "execution_count": null,
   "id": "d74d5b62-8b4d-4e25-b93d-2da1e59c05e6",
   "metadata": {},
   "outputs": [],
   "source": [
    "magnetizacion(automata)\n",
    "graficar_magnetizacion(automata)"
   ]
  },
  {
   "cell_type": "markdown",
   "id": "5fe09a3e-f311-406b-905b-54bcfbec29b1",
   "metadata": {},
   "source": [
    "### Energía:"
   ]
  },
  {
   "cell_type": "code",
   "execution_count": null,
   "id": "98ffaad3-ca16-4dfb-a498-ef4da5abc412",
   "metadata": {},
   "outputs": [],
   "source": [
    "def energia(generacion):\n",
    "    tamano = generacion.shape[0]\n",
    "    energia = 0\n",
    "    \n",
    "    for i in range(tamano):\n",
    "        for j in range(tamano):\n",
    "            vecindad = vecinos(generacion, i, j, 1)\n",
    "            energia += -0.5*np.sum(vecindad)*generacion[i,j]\n",
    "    \n",
    "    return energia"
   ]
  },
  {
   "cell_type": "code",
   "execution_count": null,
   "id": "0d0abce4-6d04-4696-a199-1da08ee7b936",
   "metadata": {},
   "outputs": [],
   "source": [
    "def graficar_energia(automata):\n",
    "    energias = [energia(generacion) for generacion in automata]\n",
    "    plt.plot(energias)\n",
    "    plt.xlabel('Generación')\n",
    "    plt.ylabel('Energía')\n",
    "    plt.grid(True)\n",
    "    plt.show()"
   ]
  },
  {
   "cell_type": "code",
   "execution_count": null,
   "id": "bddfb214-6525-4133-bdf8-963c00e1ea67",
   "metadata": {},
   "outputs": [],
   "source": []
  }
 ],
 "metadata": {
  "kernelspec": {
   "display_name": "Python 3 (ipykernel)",
   "language": "python",
   "name": "python3"
  },
  "language_info": {
   "codemirror_mode": {
    "name": "ipython",
    "version": 3
   },
   "file_extension": ".py",
   "mimetype": "text/x-python",
   "name": "python",
   "nbconvert_exporter": "python",
   "pygments_lexer": "ipython3",
   "version": "3.9.13"
  },
  "widgets": {
   "application/vnd.jupyter.widget-state+json": {
    "state": {},
    "version_major": 2,
    "version_minor": 0
   }
  }
 },
 "nbformat": 4,
 "nbformat_minor": 5
}
