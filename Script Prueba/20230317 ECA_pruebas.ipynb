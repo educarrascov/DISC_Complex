{
 "cells": [
  {
   "cell_type": "markdown",
   "id": "a4f22eaf-09a5-4966-b3bd-4ec76f594803",
   "metadata": {},
   "source": [
    "# Automatas Celulares:\n",
    "\n",
    "**Eduardo Carrasco Vidal**"
   ]
  },
  {
   "cell_type": "markdown",
   "id": "3c1a94b1-0c36-46dd-af4b-3c577fb6b189",
   "metadata": {
    "tags": []
   },
   "source": [
    "## Creación de un Elementary Celular Automata (Unidimensional):"
   ]
  },
  {
   "cell_type": "code",
   "execution_count": 1,
   "id": "33309fa7-28ae-4a24-90ed-76173ae27e31",
   "metadata": {},
   "outputs": [],
   "source": [
    "import numpy as np\n",
    "import matplotlib.pyplot as plt\n",
    "import random\n",
    "\n",
    "# determinamos el estado inicial en forma aleatoria, con valores binarios y rango (tamaño de la grilla)\n",
    "def inicial_random(tamano):\n",
    "    estado_inicial_r = [random.randint(0, 1) for _ in range(tamano)]\n",
    "    return estado_inicial_r"
   ]
  },
  {
   "cell_type": "code",
   "execution_count": 2,
   "id": "b2c0cfba-4f79-48d8-915e-27b25880d38b",
   "metadata": {},
   "outputs": [],
   "source": [
    "# con esta función determinamos un estado inicial seteado al centro.\n",
    "def inicial_seteado(tamano):\n",
    "    # generamos una lista de 0 por el tamaño\n",
    "    estado_inicial_s = [0] * tamano\n",
    "    # con esto dejamos el del medio, divide la grilla en 2 y deja el del medio en 1\n",
    "    estado_inicial_s[tamano // 2] = 1\n",
    "    return estado_inicial_s"
   ]
  },
  {
   "cell_type": "code",
   "execution_count": 3,
   "id": "08890d0f-7cda-4f40-a921-a2e2a709e4fe",
   "metadata": {},
   "outputs": [],
   "source": [
    "# Convierte un número de regla de Wolfram en un diccionario que mapea vecindarios de 3 células (width=3)\n",
    "# a estados de células actualizados\n",
    "def regla_binaria(numero_regla):\n",
    "    #Consideramos como 8 el numero de digitos\n",
    "    binario = np.binary_repr(numero_regla, width=8)\n",
    "    # Generamos división de valores binarios de 3 (del 0 al 7), para asignarle un digito de la regla\n",
    "    return {np.binary_repr(i, width=3): int(x) for i, x in enumerate(reversed(binario))}"
   ]
  },
  {
   "cell_type": "code",
   "execution_count": 4,
   "id": "66a25771-3ef6-4a6c-b34a-7ef3a4a2c148",
   "metadata": {},
   "outputs": [],
   "source": [
    "# Aplica la regla anterior a cada generación\n",
    "def siguiente_generacion(celdas, regla):\n",
    "    celdas_ext = np.pad(celdas, pad_width=1, mode='wrap')\n",
    "    vecindarios = [celdas_ext[i:i+3] for i in range(len(celdas))]\n",
    "    vecindarios_str = [''.join(str(x) for x in vec) for vec in vecindarios]\n",
    "    return np.array([regla[vec_str] for vec_str in vecindarios_str])"
   ]
  },
  {
   "cell_type": "code",
   "execution_count": 5,
   "id": "b99abc12-b21b-4460-98e2-bc9a0ca1ab98",
   "metadata": {},
   "outputs": [],
   "source": [
    "def automata_celular(numero_regla, n_generaciones, tamano, estado_inicial):\n",
    "    regla = regla_binaria(numero_regla)\n",
    "    generaciones = [estado_inicial]\n",
    "    # Itera n_generaciones - 1 veces, ya que la primera generación es el estado inicial.\n",
    "    for _ in range(n_generaciones - 1):\n",
    "        #  Genera la siguiente generación del autómata celular utilizando la función \n",
    "        # siguiente_generacion con la última generación en la lista generaciones y el diccionario de reglas regla.\n",
    "        nueva_gen = siguiente_generacion(generaciones[-1], regla)\n",
    "        ## Añade la nueva generación a la lista de generaciones.\n",
    "        generaciones.append(nueva_gen)\n",
    "        #Devuelve una matriz que representa todas las generaciones del autómata celular. \n",
    "        #La función np.vstack apila verticalmente las listas en la lista generaciones para formar una matriz.\n",
    "    return np.vstack(generaciones)"
   ]
  },
  {
   "cell_type": "code",
   "execution_count": 6,
   "id": "30f378ab-caf4-4e86-a40f-6a461b0238e0",
   "metadata": {},
   "outputs": [],
   "source": [
    "def visualizar_automata(automata):\n",
    "    plt.imshow(automata, cmap='Greys', interpolation='nearest')\n",
    "    print(f\"  Número de Regla de Wolfram: {numero_regla}\")\n",
    "    print(f\"  Número de Generaciones: {n_generaciones}\")\n",
    "    print(f\"  Tamaño de la grilla: {tamano}\")\n",
    "    plt.xlabel('Tamaño de la grilla')\n",
    "    plt.ylabel('Generaciones')\n",
    "    plt.show()"
   ]
  },
  {
   "cell_type": "markdown",
   "id": "8770030c-c4e6-4330-ab9a-1cb5f9a602ec",
   "metadata": {},
   "source": [
    "#### Densidad de 1's:\n",
    "Qué tan lleno está el autómata (celdas **Activas**)"
   ]
  },
  {
   "cell_type": "code",
   "execution_count": 38,
   "id": "67984164-7f6a-4ca3-8259-35ee2a632d84",
   "metadata": {},
   "outputs": [],
   "source": [
    "# Evolución de la densidad de 1, por generación.\n",
    "def calcular_densidad(automata):\n",
    "    #sumamos los valores y dividimos por el shape, tamaño grilla\n",
    "    densidades = np.sum(automata == 1, axis=1) / automata.shape[1]\n",
    "    return densidades"
   ]
  },
  {
   "cell_type": "code",
   "execution_count": 39,
   "id": "34d9d0ce-71e7-4ec2-9416-b2a1515a558f",
   "metadata": {},
   "outputs": [],
   "source": [
    "def graficar_densidad(densidades):\n",
    "    plt.plot(densidades)\n",
    "    plt.xlabel('Generación')\n",
    "    plt.ylabel('Densidad de 1')\n",
    "    plt.title('Densidad de 1 por generación')\n",
    "    plt.show()"
   ]
  },
  {
   "cell_type": "markdown",
   "id": "3bcdf9be-0ec7-4be1-8050-9f4e00715fdd",
   "metadata": {},
   "source": [
    "#### Densidad de 0's:\n",
    "Qué tan lleno está el autómata (celdas **No Activas**)"
   ]
  },
  {
   "cell_type": "code",
   "execution_count": 10,
   "id": "621aaef2-e424-4d48-8cdc-10510532cae7",
   "metadata": {},
   "outputs": [],
   "source": [
    "# Evolución de la densidad de 1, por generación.\n",
    "def calcular_densidad_0(automata):\n",
    "    #sumamos los valores y dividimos por el shape, tamaño grilla\n",
    "    densidades_0 = np.sum(automata == 0, axis=1) / automata.shape[1]\n",
    "    return densidades_0"
   ]
  },
  {
   "cell_type": "code",
   "execution_count": 11,
   "id": "24499df2-728d-4b27-8be3-c8c41897b9a1",
   "metadata": {},
   "outputs": [],
   "source": [
    "def graficar_densidad_0(densidades_0):\n",
    "    plt.plot(densidades_0)\n",
    "    plt.xlabel('Generación')\n",
    "    plt.ylabel('Densidad de 0')\n",
    "    plt.title('Densidad de 0 por generación')\n",
    "    plt.show()"
   ]
  },
  {
   "cell_type": "markdown",
   "id": "4e11649e-e24b-4924-905a-c2141b5ca707",
   "metadata": {},
   "source": [
    "#### Entropía:\n",
    "Medida de incertidumbre o desorden, puede interpretarse como la incertidumbre en el estado de una celda, dada la distribución de estados en una generación."
   ]
  },
  {
   "cell_type": "code",
   "execution_count": 12,
   "id": "5f148237-8497-4c96-acf2-980eb54592bd",
   "metadata": {},
   "outputs": [],
   "source": [
    "from scipy.stats import entropy\n",
    "def calcular_entropia(automata):\n",
    "    entropias = []\n",
    "    for fila in automata:\n",
    "        # Contamos la cantidad de 1 y 0 en cada fila\n",
    "        unique, counts = np.unique(fila, return_counts=True)\n",
    "        frecuencias = dict(zip(unique, counts))\n",
    "        # Calculamos la probabilidad de 0 y 1 en cada fila\n",
    "        probs = [frecuencias.get(i, 0) / len(fila) for i in [0, 1]]\n",
    "        entropias.append(entropy(probs, base=2))\n",
    "    return np.array(entropias)"
   ]
  },
  {
   "cell_type": "code",
   "execution_count": 13,
   "id": "fc2f6676-3f0a-4568-a0dd-9df3703a411f",
   "metadata": {},
   "outputs": [],
   "source": [
    "def graficar_entropia(entropias):\n",
    "    plt.plot(entropias)\n",
    "    plt.xlabel('Generación')\n",
    "    plt.ylabel('Entropía')\n",
    "    plt.title('Entropía por generación')\n",
    "    plt.show()"
   ]
  },
  {
   "cell_type": "code",
   "execution_count": 11,
   "id": "56980c70-0866-4b22-bdcf-5d886fe1b869",
   "metadata": {},
   "outputs": [
    {
     "name": "stdout",
     "output_type": "stream",
     "text": [
      "  Número de Regla de Wolfram: 30\n",
      "  Número de Generaciones: 100\n",
      "  Tamaño de la grilla: 200\n"
     ]
    },
    {
     "data": {
      "image/png": "[encoded data removed]",
      "text/plain": [
       "<Figure size 640x480 with 1 Axes>"
      ]
     },
     "metadata": {},
     "output_type": "display_data"
    }
   ],
   "source": [
    "## Definición de condiciones para la simulación:\n",
    "## se puede seleccionar random o seteado\n",
    "numero_regla = 30\n",
    "n_generaciones = 100\n",
    "tamano = 200\n",
    "estado_inicial = inicial_random(tamano) #random o seteado\n",
    "\n",
    "automata = automata_celular(numero_regla, n_generaciones, tamano, estado_inicial)\n",
    "visualizar_automata(automata)"
   ]
  },
  {
   "cell_type": "code",
   "execution_count": 12,
   "id": "8c56b735-679f-4644-97eb-c0b0f94edbbf",
   "metadata": {},
   "outputs": [
    {
     "data": {
      "text/plain": [
       "array([[1, 1, 0, ..., 1, 0, 1],\n",
       "       [0, 0, 1, ..., 1, 0, 1],\n",
       "       [1, 1, 1, ..., 0, 0, 1],\n",
       "       ...,\n",
       "       [1, 1, 1, ..., 0, 1, 1],\n",
       "       [0, 0, 0, ..., 1, 1, 0],\n",
       "       [0, 0, 0, ..., 0, 0, 1]])"
      ]
     },
     "execution_count": 12,
     "metadata": {},
     "output_type": "execute_result"
    }
   ],
   "source": [
    "automata[:,:]"
   ]
  },
  {
   "cell_type": "code",
   "execution_count": 13,
   "id": "49be20eb-cb07-496f-99b2-8200001d658c",
   "metadata": {},
   "outputs": [
    {
     "data": {
      "text/plain": [
       "'00011110'"
      ]
     },
     "execution_count": 13,
     "metadata": {},
     "output_type": "execute_result"
    }
   ],
   "source": [
    "## Representación binaria de la primera regla\n",
    "## se puede usar para cualquier representación binaria\n",
    "np.binary_repr(numero_regla, width=8)"
   ]
  },
  {
   "cell_type": "code",
   "execution_count": 14,
   "id": "9d696b25-50a1-4282-96ef-f67a2a10b6a0",
   "metadata": {},
   "outputs": [
    {
     "data": {
      "text/plain": [
       "100"
      ]
     },
     "execution_count": 14,
     "metadata": {},
     "output_type": "execute_result"
    }
   ],
   "source": [
    "n_filas = len(automata)\n",
    "n_filas"
   ]
  },
  {
   "cell_type": "code",
   "execution_count": null,
   "id": "90df13a4-cd78-4673-8b2d-1d1581860809",
   "metadata": {},
   "outputs": [],
   "source": []
  },
  {
   "cell_type": "code",
   "execution_count": null,
   "id": "a503dc49-3f32-483c-b9b3-9d6fa70375e1",
   "metadata": {},
   "outputs": [],
   "source": []
  }
 ],
 "metadata": {
  "kernelspec": {
   "display_name": "Python 3 (ipykernel)",
   "language": "python",
   "name": "python3"
  },
  "language_info": {
   "codemirror_mode": {
    "name": "ipython",
    "version": 3
   },
   "file_extension": ".py",
   "mimetype": "text/x-python",
   "name": "python",
   "nbconvert_exporter": "python",
   "pygments_lexer": "ipython3",
   "version": "3.9.13"
  },
  "widgets": {
   "application/vnd.jupyter.widget-state+json": {
    "state": {},
    "version_major": 2,
    "version_minor": 0
   }
  }
 },
 "nbformat": 4,
 "nbformat_minor": 5
}
