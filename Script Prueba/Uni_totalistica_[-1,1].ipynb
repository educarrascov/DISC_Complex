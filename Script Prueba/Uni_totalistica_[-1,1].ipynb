{
 "cells": [
  {
   "cell_type": "markdown",
   "id": "80ca27e2-1db9-4ee3-af73-536f08a2d024",
   "metadata": {},
   "source": [
    "# Dinámica de Consenso\n",
    "\n",
    "**Eduardo Carrasco**"
   ]
  },
  {
   "cell_type": "markdown",
   "id": "505e2662-835a-45d0-924e-1efa2ff9bb6e",
   "metadata": {
    "tags": []
   },
   "source": [
    "## Automata Celular Unidimensional:"
   ]
  },
  {
   "cell_type": "markdown",
   "id": "e6e7a442-e952-4f8e-8bb9-7b8cf8c074eb",
   "metadata": {
    "tags": []
   },
   "source": [
    "### Estados Iniciales: [-1, 1]"
   ]
  },
  {
   "cell_type": "code",
   "execution_count": null,
   "id": "02ec41dd-d784-4c80-9a3b-59e699bf9ae9",
   "metadata": {},
   "outputs": [],
   "source": [
    "import numpy as np\n",
    "import matplotlib.pyplot as plt\n",
    "import random\n",
    "import os\n",
    "\n",
    "# determinamos el estado inicial en forma aleatoria, con valores binarios y rango (tamaño de la grilla)\n",
    "def inicial_random(tamano):\n",
    "    np.random.seed(128)\n",
    "    estado_inicial_r = np.random.choice([-1, 1], size=(tamano), p=[0.5, 0.5])\n",
    "    return estado_inicial_r"
   ]
  },
  {
   "cell_type": "code",
   "execution_count": null,
   "id": "e4d0b48f-e67b-49e3-b33d-55b7ec703f98",
   "metadata": {},
   "outputs": [],
   "source": [
    "# con esta función determinamos un estado inicial seteado al centro.\n",
    "def inicial_centrado(tamano):\n",
    "    estado_inicial_s = [-1] * tamano\n",
    "    estado_inicial_s[tamano // 2] = 1\n",
    "    return estado_inicial_s"
   ]
  },
  {
   "cell_type": "markdown",
   "id": "0329be9b-6326-4abc-b054-79f097c9fdac",
   "metadata": {},
   "source": [
    "### Definición vecinos:"
   ]
  },
  {
   "cell_type": "code",
   "execution_count": null,
   "id": "ac3a6c8f-37d6-4cf2-ae3d-a3214e8823ec",
   "metadata": {},
   "outputs": [],
   "source": [
    "def vecinos(estado, i, r):\n",
    "    tamano = len(estado)\n",
    "    estado_ext = np.pad(estado, pad_width=r, mode='wrap')\n",
    "    vecindad = [estado_ext[i + r + j] for j in range(-r, r + 1)]\n",
    "    return vecindad"
   ]
  },
  {
   "cell_type": "markdown",
   "id": "8d7b68df-1938-4bc1-a5c1-2ead4967687b",
   "metadata": {},
   "source": [
    "### Definición de Reglas:"
   ]
  },
  {
   "cell_type": "code",
   "execution_count": null,
   "id": "328c6970-77a5-4626-90dc-c578c8ac17a7",
   "metadata": {},
   "outputs": [],
   "source": [
    "def regla_totalistica(vecindad):\n",
    "    suma = np.sum(vecindad)\n",
    "    if suma > 0:\n",
    "        return 1\n",
    "    elif suma < 0:\n",
    "        return -1\n",
    "    else:\n",
    "        return vecindad[len(vecindad)//2]"
   ]
  },
  {
   "cell_type": "markdown",
   "id": "ac6e32b0-db27-4a30-840f-4da9fc27a50f",
   "metadata": {},
   "source": [
    "### Cálculo Siguiente Generación:"
   ]
  },
  {
   "cell_type": "code",
   "execution_count": null,
   "id": "3b7f6991-216e-4f37-a912-99380a6cda27",
   "metadata": {},
   "outputs": [],
   "source": [
    "def siguiente_generacion(estado, r):\n",
    "    tamano = len(estado)\n",
    "    nueva_generacion = np.zeros(tamano, dtype=int)\n",
    "\n",
    "    for i in range(tamano):\n",
    "        vecindad = vecinos(estado, i, r)\n",
    "        nueva_generacion[i] = regla_totalistica(vecindad)\n",
    "\n",
    "    return nueva_generacion"
   ]
  },
  {
   "cell_type": "code",
   "execution_count": null,
   "id": "a7a7573b-3aca-4594-b93c-88e9a7c015f4",
   "metadata": {},
   "outputs": [],
   "source": [
    "def automata_celular(r, tamano, generaciones, estado_inicial):\n",
    "    automata = np.zeros((generaciones, tamano), dtype=int)\n",
    "    automata[0] = estado_inicial\n",
    "\n",
    "    for t in range(1, generaciones):\n",
    "        automata[t] = siguiente_generacion(automata[t - 1], r)\n",
    "\n",
    "    return automata"
   ]
  },
  {
   "cell_type": "code",
   "execution_count": null,
   "id": "2b4b120f-1be5-4533-bf96-2eebe21b1574",
   "metadata": {},
   "outputs": [],
   "source": [
    "def visualizar_automata(automata):\n",
    "    plt.imshow(automata, cmap='Greys', interpolation='nearest')\n",
    "    plt.xlabel('Tamaño de la grilla')\n",
    "    plt.ylabel('Generaciones')\n",
    "    plt.show()"
   ]
  },
  {
   "cell_type": "code",
   "execution_count": null,
   "id": "03a379fe-297b-489a-a568-cca5fdc0e6eb",
   "metadata": {},
   "outputs": [],
   "source": [
    "def guardar_automata(automata, nombre_archivo=\"automata.png\", ruta_carpeta=\"0. ACU/0. ACU_combinatoria\"):\n",
    "    plt.imshow(automata, cmap='Greys', interpolation='nearest')\n",
    "    plt.title(f\"Radio: {r}\\nNúmero de Generaciones: {generaciones}\\nTamaño de la grilla: {tamano}\\nSuma Vecinos: {suma_vecinos}\")\n",
    "    plt.xlabel('Tamaño de la grilla')\n",
    "    plt.ylabel('Generaciones')\n",
    "    \n",
    "    # Crear el nombre del archivo utilizando las variables\n",
    "    nombre_archivo = f\"UCA_R{r}_{tamano}_r{suma_vecinos}.png\"\n",
    "    \n",
    "    # Guardar la imagen en la misma carpeta del script con el nombre especificado\n",
    "    plt.savefig(ruta_carpeta + nombre_archivo, dpi=300, bbox_inches='tight', pad_inches=0)\n",
    "    plt.close()"
   ]
  },
  {
   "cell_type": "markdown",
   "id": "3bc40829-7dcd-40d2-b7ed-ab399846afe0",
   "metadata": {},
   "source": [
    "### Implementación y seteo de condiciones:"
   ]
  },
  {
   "cell_type": "code",
   "execution_count": null,
   "id": "fa8d6d0e-2df2-4e19-b2c6-d3d2ddc0bcef",
   "metadata": {},
   "outputs": [],
   "source": [
    "# Parámetros\n",
    "r = 3\n",
    "tamano = 80\n",
    "generaciones = 80\n",
    "estado_inicial = inicial_random(tamano) #centrado o random\n",
    "#estado_inicial = [-1,1,-1,1,-1,1,-1,1,-1,1,-1] #en base al tamaño de la variable tamano\n",
    "\n",
    "# Ejecución del autómata celular\n",
    "automata = automata_celular(r, tamano, generaciones, estado_inicial)\n",
    "visualizar_automata(automata)\n",
    "#guardar_automata(automata, \"mi_automata.png\", \"0. ACU/\")"
   ]
  },
  {
   "cell_type": "markdown",
   "id": "ebc2dda2-b0b5-46ef-baa8-7819c558c3f4",
   "metadata": {},
   "source": [
    "_____"
   ]
  },
  {
   "cell_type": "markdown",
   "id": "4333a8cc-797b-450f-95fd-e82b291d3ecf",
   "metadata": {
    "jp-MarkdownHeadingCollapsed": true,
    "tags": []
   },
   "source": [
    "#### Otros (no tocar):"
   ]
  },
  {
   "cell_type": "markdown",
   "id": "a54f2b8a-3208-474e-91e6-048fa21c0c84",
   "metadata": {},
   "source": [
    "_____"
   ]
  },
  {
   "cell_type": "code",
   "execution_count": null,
   "id": "a7f7e3a6-96d5-466b-8863-a1c414277dbd",
   "metadata": {},
   "outputs": [],
   "source": [
    "def automata_celular(r, tamano, generaciones, estado_inicial, suma_vecinos):\n",
    "    automata = np.zeros((generaciones, tamano), dtype=int)\n",
    "    automata[0] = estado_inicial\n",
    "\n",
    "    for t in range(1, generaciones):\n",
    "        automata[t] = siguiente_generacion(automata[t - 1], r, suma_vecinos)\n",
    "    \n",
    "    return automata"
   ]
  },
  {
   "cell_type": "code",
   "execution_count": null,
   "id": "182ed545-c9cf-4caa-8e53-a7d98c8837d3",
   "metadata": {},
   "outputs": [],
   "source": [
    "def guardar_automata(automata, r, generaciones, tamano, ruta_carpeta, nombre_archivo):\n",
    "    plt.imshow(automata, cmap='Greys', interpolation='nearest')\n",
    "    plt.title(f\"Radio: {r}\\n Generaciones: {generaciones}\\n Tamaño: {tamano}\\n Regla:{suma_vecinos}\")\n",
    "    plt.xlabel('Tamaño de la grilla')\n",
    "    plt.ylabel('Generaciones')\n",
    "    plt.savefig(f\"{ruta_carpeta}/{nombre_archivo}.png\", dpi=300)\n",
    "    plt.close()"
   ]
  },
  {
   "cell_type": "code",
   "execution_count": null,
   "id": "dbce3488-1453-4c21-adf0-e8be60293dbb",
   "metadata": {},
   "outputs": [],
   "source": [
    "def simular_todas_combinaciones(r, tamano, generaciones, suma_vecinos, ruta_carpeta):\n",
    "    estados = [list(map(int, list(format(i, f\"0{tamano}b\")))) for i in range(2 ** tamano)]\n",
    "\n",
    "    for pos in range(len(estados)):\n",
    "        estado_inicial = np.array(estados[pos]).copy()\n",
    "        automata = automata_celular(r, tamano, generaciones, estado_inicial, suma_vecinos)\n",
    "        nombre_archivo = f\"automata_r{r}_estado{pos}.png\"\n",
    "        guardar_automata(automata, r, generaciones, tamano, ruta_carpeta, nombre_archivo)"
   ]
  },
  {
   "cell_type": "code",
   "execution_count": null,
   "id": "fea48d27-4f2b-4fef-b5b5-2638bf2f6423",
   "metadata": {},
   "outputs": [],
   "source": [
    "def ejecutar_y_guardar_automatas(r, tamano, generaciones, ruta_carpeta, suma_vecinos):\n",
    "    estados_iniciales = simular_todas_combinaciones(r, tamano, generaciones, suma_vecinos, ruta_carpeta)\n",
    "\n",
    "    for idx, estado_inicial in enumerate(estados_iniciales):\n",
    "        automata = automata_celular(r, tamano, generaciones, estado_inicial, suma_vecinos)\n",
    "        guardar_automata(automata, r, generaciones, tamano, ruta_carpeta, f\"UCA_R{r}_r{suma_vecinos}_{idx}\")"
   ]
  },
  {
   "cell_type": "code",
   "execution_count": null,
   "id": "8e2e2ad9-0d61-49e3-b6b9-7db470345650",
   "metadata": {},
   "outputs": [],
   "source": [
    "r = 1\n",
    "tamano = 4\n",
    "generaciones = 10\n",
    "suma_vecinos = [2]\n",
    "ruta_carpeta = \"0. ACU/0. ACU_combinatoria\"\n",
    "\n",
    "ejecutar_y_guardar_automatas(r, tamano, generaciones, ruta_carpeta, suma_vecinos)"
   ]
  },
  {
   "cell_type": "markdown",
   "id": "2271ac6e-b43a-45c0-870f-112feb9745e9",
   "metadata": {},
   "source": [
    "_____"
   ]
  },
  {
   "cell_type": "markdown",
   "id": "4993911b-69f7-4adf-b079-a611a58a61b2",
   "metadata": {},
   "source": [
    "### Métricas:"
   ]
  },
  {
   "cell_type": "markdown",
   "id": "1ff88c38-ceaf-4060-943d-89f1c3ac37a4",
   "metadata": {
    "jp-MarkdownHeadingCollapsed": true,
    "tags": []
   },
   "source": [
    "#### Entropía:"
   ]
  },
  {
   "cell_type": "code",
   "execution_count": null,
   "id": "62941172-b2b0-40b8-bf71-10c47175d6ef",
   "metadata": {},
   "outputs": [],
   "source": [
    "from scipy.stats import entropy\n",
    "def calcular_entropia(automata):\n",
    "    entropias = []\n",
    "    for fila in automata:\n",
    "        # Contamos la cantidad de 1 y 0 en cada fila\n",
    "        unique, counts = np.unique(fila, return_counts=True)\n",
    "        frecuencias = dict(zip(unique, counts))\n",
    "        # Calculamos la probabilidad de 0 y 1 en cada fila\n",
    "        probs = [frecuencias.get(i, 0) / len(fila) for i in [0, 1]]\n",
    "        entropias.append(entropy(probs, base=2))\n",
    "    return np.array(entropias)"
   ]
  },
  {
   "cell_type": "code",
   "execution_count": null,
   "id": "65660c71-606a-4776-8823-7a968b4d3178",
   "metadata": {},
   "outputs": [],
   "source": [
    "def graficar_entropia(entropias):\n",
    "    plt.plot(entropias)\n",
    "    plt.xlabel('Generación')\n",
    "    plt.ylabel('Entropía')\n",
    "    plt.title('Entropía por generación')\n",
    "    plt.show()"
   ]
  },
  {
   "cell_type": "code",
   "execution_count": null,
   "id": "f2cf5e42-a1e9-414d-a68c-957b64de80cc",
   "metadata": {},
   "outputs": [],
   "source": [
    "# Cálculo y gráfico de la entropía en f de las generaciones:\n",
    "entropias = calcular_entropia(automata)\n",
    "graficar_entropia(entropias)"
   ]
  },
  {
   "cell_type": "markdown",
   "id": "7bf60a3b-e498-47c9-86d4-939d903b7320",
   "metadata": {},
   "source": [
    "#### Magnetización:"
   ]
  },
  {
   "cell_type": "code",
   "execution_count": null,
   "id": "d0e1e22d-5c15-449c-afbc-5ef0b61d0f52",
   "metadata": {},
   "outputs": [],
   "source": [
    "def magnetizacion(automata):\n",
    "    return np.mean(automata)"
   ]
  },
  {
   "cell_type": "code",
   "execution_count": null,
   "id": "4dd1f0bd-2c2f-445e-9a5e-f45ad916602c",
   "metadata": {},
   "outputs": [],
   "source": [
    "def graficar_magnetizacion(automata):\n",
    "    magnetizaciones = [magnetizacion(generacion) for generacion in automata]\n",
    "    fig, ax = plt.subplots(figsize=(7, 4))\n",
    "    ax.plot(magnetizaciones, color='#1f77b4', linewidth=1.8, label='Magnetización ACU')\n",
    "    ax.set_xlabel('Generación', fontsize=11)\n",
    "    ax.set_ylabel('Magnetización', fontsize=11)\n",
    "    ax.tick_params(axis='both', labelsize=11)\n",
    "    ax.legend(fontsize=10)\n",
    "    plt.grid(True)\n",
    "    plt.show()"
   ]
  },
  {
   "cell_type": "code",
   "execution_count": null,
   "id": "c0d30b87-c66e-4415-bf5f-e95d01ded4b2",
   "metadata": {},
   "outputs": [],
   "source": [
    "# Cálculo y gráfico de la densidad de 1:\n",
    "magnetizacion(automata)\n",
    "graficar_magnetizacion(automata)"
   ]
  },
  {
   "cell_type": "markdown",
   "id": "a183043f-f860-4f4d-be71-5ed474f87b0e",
   "metadata": {},
   "source": [
    "_______"
   ]
  },
  {
   "cell_type": "markdown",
   "id": "81a6a472-0f87-46f3-8d2f-71420b4b6345",
   "metadata": {},
   "source": [
    "_____"
   ]
  },
  {
   "cell_type": "markdown",
   "id": "8f03eebe-59a3-4fa2-81bd-b955b74c2e6f",
   "metadata": {
    "tags": []
   },
   "source": [
    "## Automata Celular Bidimensional:"
   ]
  },
  {
   "cell_type": "markdown",
   "id": "aaf63fa6-0e71-4f00-9345-ba8eb1d52e12",
   "metadata": {},
   "source": [
    "### Estados Iniciales: [-1, 1]"
   ]
  },
  {
   "cell_type": "code",
   "execution_count": 1,
   "id": "010e0788-5080-4160-991c-267244945399",
   "metadata": {},
   "outputs": [],
   "source": [
    "import numpy as np\n",
    "import matplotlib.pyplot as plt\n",
    "import imageio\n",
    "import os\n",
    "\n",
    "def inicial_random(tamano):\n",
    "    np.random.seed(218)\n",
    "    estado_inicial_r = np.random.choice([-1, 1], size=(tamano, tamano), p=[0.4, 0.6])\n",
    "    return estado_inicial_r"
   ]
  },
  {
   "cell_type": "code",
   "execution_count": 2,
   "id": "07daf933-9c68-4247-bf0e-5ee9fac4572c",
   "metadata": {},
   "outputs": [],
   "source": [
    "# con esta función determinamos un estado inicial seteado al centro.\n",
    "def inicial_centrado(tamano):\n",
    "    estado_inicial_s = [-1] * tamano\n",
    "    estado_inicial_s[tamano // 2] = 1\n",
    "    return estado_inicial_s"
   ]
  },
  {
   "cell_type": "markdown",
   "id": "eddc4aae-4a9b-406e-863d-9a17035e2cbb",
   "metadata": {},
   "source": [
    "### Definición vecinos:"
   ]
  },
  {
   "cell_type": "code",
   "execution_count": 3,
   "id": "b774044a-936d-4d47-a1f3-fa996023f47e",
   "metadata": {},
   "outputs": [],
   "source": [
    "def vecinos(estado, i, j):\n",
    "    tamano = estado.shape[0]\n",
    "    vecindad = []\n",
    "    for di, dj in [(-1, 0), (1, 0), (0, -1), (0, 1)]:\n",
    "        ni = (i + di) % tamano\n",
    "        nj = (j + dj) % tamano\n",
    "        vecindad.append(estado[ni, nj])\n",
    "    return np.array(vecindad)"
   ]
  },
  {
   "cell_type": "markdown",
   "id": "8450bb87-f814-4585-8db0-ed1c42265a05",
   "metadata": {},
   "source": [
    "### Definición Reglas:"
   ]
  },
  {
   "cell_type": "code",
   "execution_count": 4,
   "id": "b707a0fb-5c98-4e7a-a91e-d22a920b96c5",
   "metadata": {},
   "outputs": [],
   "source": [
    "def regla_totalistica(vecindad):\n",
    "    suma = np.sum(vecindad)\n",
    "    if suma > 0:\n",
    "        return 1\n",
    "    elif suma < 0:\n",
    "        return -1\n",
    "    else:\n",
    "        return vecindad[0]"
   ]
  },
  {
   "cell_type": "markdown",
   "id": "415331f0-af73-4765-aa96-8b0ce2e12807",
   "metadata": {},
   "source": [
    "### Cálculo siguiente generación:"
   ]
  },
  {
   "cell_type": "code",
   "execution_count": 5,
   "id": "1b2feff5-5e57-4ffa-8c34-5de6fd3aa2d1",
   "metadata": {},
   "outputs": [],
   "source": [
    "def siguiente_generacion(estado):\n",
    "    tamano = estado.shape[0]\n",
    "    nueva_generacion = np.zeros_like(estado)\n",
    "\n",
    "    for i in range(tamano):\n",
    "        for j in range(tamano):\n",
    "            vecindad = vecinos(estado, i, j)\n",
    "            nueva_generacion[i, j] = regla_totalistica(vecindad)\n",
    "\n",
    "    return nueva_generacion"
   ]
  },
  {
   "cell_type": "code",
   "execution_count": 6,
   "id": "021cd466-46c9-455b-8efe-aa0cab659e46",
   "metadata": {},
   "outputs": [],
   "source": [
    "def automata_celular(tamano, generaciones, estado_inicial):\n",
    "    automata = np.zeros((generaciones, tamano, tamano), dtype=int)\n",
    "    automata[0] = estado_inicial\n",
    "\n",
    "    for t in range(1, generaciones):\n",
    "        automata[t] = siguiente_generacion(automata[t - 1])\n",
    "    \n",
    "    return automata"
   ]
  },
  {
   "cell_type": "code",
   "execution_count": 7,
   "id": "782c4494-00d3-464d-be2b-66845fc09f90",
   "metadata": {},
   "outputs": [],
   "source": [
    "def visualizar_automata(automata, generaciones, tamano):\n",
    "    fig, axs = plt.subplots(1, generaciones, figsize=(15, 15))\n",
    "\n",
    "    for t in range(generaciones):\n",
    "        axs[t].imshow(automata[t], cmap='Greys', interpolation='nearest', vmin=-1, vmax=1)\n",
    "        axs[t].set_xlabel('X')\n",
    "        axs[t].set_ylabel('Y')\n",
    "        axs[t].set_title(f'Generación {t} \\nTamaño: {tamano}')\n",
    "        axs[t].set_xticks([])\n",
    "        axs[t].set_yticks([])\n",
    "\n",
    "    plt.show()"
   ]
  },
  {
   "cell_type": "markdown",
   "id": "f0106f1c-9c9e-45ad-b4b8-86f06c388520",
   "metadata": {},
   "source": [
    "### Implementación y seteo de condiciones:"
   ]
  },
  {
   "cell_type": "code",
   "execution_count": 11,
   "id": "c71f0b5c-168b-4d92-930d-514db83419ef",
   "metadata": {},
   "outputs": [
    {
     "data": {
      "image/png": "[encoded data removed]",
      "text/plain": [
       "<Figure size 1080x1080 with 4 Axes>"
      ]
     },
     "metadata": {},
     "output_type": "display_data"
    }
   ],
   "source": [
    "# Ejemplo de uso\n",
    "tamano = 4\n",
    "generaciones = 4\n",
    "estado_inicial = inicial_random(tamano)\n",
    "\n",
    "# Ejecución del autómata celular\n",
    "automata = automata_celular(tamano, generaciones, estado_inicial)\n",
    "\n",
    "## Generación visualización condicionada a cantidad de generaciones.\n",
    "visualizar_automata(automata, generaciones, tamano) "
   ]
  },
  {
   "cell_type": "code",
   "execution_count": 12,
   "id": "56eb6976-c20e-4a05-8b74-f8f90736def6",
   "metadata": {},
   "outputs": [
    {
     "data": {
      "text/plain": [
       "array([[[-1, -1,  1,  1],\n",
       "        [ 1, -1,  1, -1],\n",
       "        [-1, -1,  1,  1],\n",
       "        [ 1,  1, -1, -1]],\n",
       "\n",
       "       [[ 1,  1, -1, -1],\n",
       "        [-1, -1,  1,  1],\n",
       "        [ 1, -1,  1, -1],\n",
       "        [-1, -1,  1,  1]],\n",
       "\n",
       "       [[-1, -1,  1,  1],\n",
       "        [ 1,  1, -1, -1],\n",
       "        [-1, -1,  1,  1],\n",
       "        [ 1, -1,  1, -1]],\n",
       "\n",
       "       [[ 1, -1,  1, -1],\n",
       "        [-1, -1,  1,  1],\n",
       "        [ 1,  1, -1, -1],\n",
       "        [-1, -1,  1,  1]]])"
      ]
     },
     "execution_count": 12,
     "metadata": {},
     "output_type": "execute_result"
    }
   ],
   "source": [
    "automata"
   ]
  },
  {
   "cell_type": "markdown",
   "id": "0e47026d-70f5-40ed-a351-b09629f495a5",
   "metadata": {},
   "source": [
    "### Creación de video (Gif):"
   ]
  },
  {
   "cell_type": "code",
   "execution_count": null,
   "id": "251b92fb-f38b-416f-a557-2edd8a2d5175",
   "metadata": {},
   "outputs": [],
   "source": [
    "def crear_gif(automata, r, tamano, generaciones):\n",
    "    nombre_archivo = f\"BCA_r{r}_s{tamano}_gen{generaciones}.gif\"\n",
    "\n",
    "    imagenes = []\n",
    "    for idx, matriz in enumerate(automata):\n",
    "        imagen = plt.imshow(matriz, cmap='Greys', interpolation='nearest', vmin=-1, vmax=1)\n",
    "        titulo = f\"Generación {idx} \\nRadio {r} \\nTamaño Grilla {tamano}\"\n",
    "        plt.title(titulo)\n",
    "        plt.axis('on')\n",
    "        filename = \"temp.png\"\n",
    "        plt.savefig(filename)\n",
    "        plt.close()\n",
    "\n",
    "        image = imageio.v2.imread(filename)\n",
    "        os.remove(filename)\n",
    "        imagenes.append(image)\n",
    "\n",
    "    imageio.mimsave(nombre_archivo, imagenes, fps=10) #con fps regulo la tasa de imagenes por segundo"
   ]
  },
  {
   "cell_type": "code",
   "execution_count": null,
   "id": "eacb623a-13aa-4c97-916d-83d9f2e83617",
   "metadata": {},
   "outputs": [],
   "source": [
    "crear_gif(automata, r, tamano, generaciones)"
   ]
  },
  {
   "cell_type": "markdown",
   "id": "b13542c4-7546-4d75-bbe4-918389744301",
   "metadata": {},
   "source": [
    "### Métricas:"
   ]
  },
  {
   "cell_type": "markdown",
   "id": "f8a236e4-eea5-4f8e-9ec5-1fb439c09bdb",
   "metadata": {},
   "source": [
    "#### Magnetización:"
   ]
  },
  {
   "cell_type": "code",
   "execution_count": null,
   "id": "665df71d-78d1-475f-9bf0-16b42208b57c",
   "metadata": {},
   "outputs": [],
   "source": [
    "def magnetizacion(automata):\n",
    "    return np.mean(automata)"
   ]
  },
  {
   "cell_type": "code",
   "execution_count": null,
   "id": "92993eb6-e4ee-417a-9741-67941e81043a",
   "metadata": {},
   "outputs": [],
   "source": [
    "def graficar_magnetizacion(automata):\n",
    "    magnetizaciones = [magnetizacion(generacion) for generacion in automata]\n",
    "    fig, ax = plt.subplots(figsize=(7, 4))\n",
    "    ax.plot(magnetizaciones, color='#1f77b4', linewidth=1.8, label='Magnetización ACB')\n",
    "    ax.set_xlabel('Generación', fontsize=11)\n",
    "    ax.set_ylabel('Magnetización', fontsize=11)\n",
    "    ax.tick_params(axis='both', labelsize=11)\n",
    "    ax.legend(fontsize=10)\n",
    "    plt.grid(True)\n",
    "    plt.show()"
   ]
  },
  {
   "cell_type": "code",
   "execution_count": null,
   "id": "d74d5b62-8b4d-4e25-b93d-2da1e59c05e6",
   "metadata": {},
   "outputs": [],
   "source": [
    "magnetizacion(automata)\n",
    "graficar_magnetizacion(automata)"
   ]
  },
  {
   "cell_type": "markdown",
   "id": "5fe09a3e-f311-406b-905b-54bcfbec29b1",
   "metadata": {},
   "source": [
    "### Energía:"
   ]
  },
  {
   "cell_type": "code",
   "execution_count": null,
   "id": "98ffaad3-ca16-4dfb-a498-ef4da5abc412",
   "metadata": {},
   "outputs": [],
   "source": [
    "def energia(generacion):\n",
    "    tamano = generacion.shape[0]\n",
    "    energia = 0\n",
    "    \n",
    "    for i in range(tamano):\n",
    "        for j in range(tamano):\n",
    "            vecindad = vecinos(generacion, i, j, 1)\n",
    "            energia += -0.5*np.sum(vecindad)*generacion[i,j]\n",
    "    \n",
    "    return energia"
   ]
  },
  {
   "cell_type": "code",
   "execution_count": null,
   "id": "0d0abce4-6d04-4696-a199-1da08ee7b936",
   "metadata": {},
   "outputs": [],
   "source": [
    "def graficar_energia(automata):\n",
    "    energias = [energia(generacion) for generacion in automata]\n",
    "    plt.plot(energias)\n",
    "    plt.xlabel('Generación')\n",
    "    plt.ylabel('Energía')\n",
    "    plt.grid(True)\n",
    "    plt.show()"
   ]
  },
  {
   "cell_type": "code",
   "execution_count": null,
   "id": "bddfb214-6525-4133-bdf8-963c00e1ea67",
   "metadata": {},
   "outputs": [],
   "source": []
  }
 ],
 "metadata": {
  "kernelspec": {
   "display_name": "Python 3 (ipykernel)",
   "language": "python",
   "name": "python3"
  },
  "language_info": {
   "codemirror_mode": {
    "name": "ipython",
    "version": 3
   },
   "file_extension": ".py",
   "mimetype": "text/x-python",
   "name": "python",
   "nbconvert_exporter": "python",
   "pygments_lexer": "ipython3",
   "version": "3.10.4"
  },
  "widgets": {
   "application/vnd.jupyter.widget-state+json": {
    "state": {},
    "version_major": 2,
    "version_minor": 0
   }
  }
 },
 "nbformat": 4,
 "nbformat_minor": 5
}
